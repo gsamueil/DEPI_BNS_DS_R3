{
 "cells": [
  {
   "cell_type": "markdown",
   "metadata": {},
   "source": [
    "# Task 1.\n",
    "- Calculate Factorial using recursion"
   ]
  },
  {
   "cell_type": "code",
   "execution_count": 6,
   "metadata": {},
   "outputs": [
    {
     "data": {
      "text/plain": [
       "5"
      ]
     },
     "execution_count": 6,
     "metadata": {},
     "output_type": "execute_result"
    }
   ],
   "source": [
    "def factorial(num):\n",
    "    if num == 0:\n",
    "        return 0\n",
    "    if num == 1:\n",
    "        return 1\n",
    "    return num * factorial(num -1 )\n",
    "\n",
    "factorial(5)"
   ]
  },
  {
   "cell_type": "markdown",
   "metadata": {},
   "source": [
    "# Task 2.\n",
    "- Write a function that takes a number and return True if this number is prime and False if not."
   ]
  },
  {
   "cell_type": "code",
   "execution_count": 4,
   "metadata": {},
   "outputs": [
    {
     "data": {
      "text/plain": [
       "False"
      ]
     },
     "execution_count": 4,
     "metadata": {},
     "output_type": "execute_result"
    }
   ],
   "source": [
    "def isPrime(num):\n",
    "    for i in range(2, num):\n",
    "        if num % i == 0:\n",
    "            return False\n",
    "    return True\n",
    "\n",
    "isPrime(20)"
   ]
  },
  {
   "cell_type": "code",
   "execution_count": 1,
   "metadata": {},
   "outputs": [
    {
     "data": {
      "text/plain": [
       "True"
      ]
     },
     "execution_count": 1,
     "metadata": {},
     "output_type": "execute_result"
    }
   ],
   "source": [
    "class isprime:\n",
    "    def __init__(self, num):\n",
    "        \n",
    "        self.num = num\n",
    "    def is_prime(self):\n",
    "        for i in range(2, self.num):\n",
    "    \n",
    "            if self.num % i == 0:\n",
    "                return False\n",
    "        return True\n",
    "\n",
    "ip=isprime(7)\n",
    "ip.is_prime()\n",
    "        \n",
    "        "
   ]
  },
  {
   "cell_type": "markdown",
   "metadata": {},
   "source": [
    "# Task 3.\n",
    "- Write a function that takes two numbers and return a list of common dividors"
   ]
  },
  {
   "cell_type": "code",
   "execution_count": 38,
   "metadata": {},
   "outputs": [
    {
     "data": {
      "text/plain": [
       "[1, 2, 5, 10]"
      ]
     },
     "execution_count": 38,
     "metadata": {},
     "output_type": "execute_result"
    }
   ],
   "source": [
    "def dividors(num1, num2):\n",
    "    mn = min(num1, num2)\n",
    "    common_dividors = []\n",
    "    for i in range(1, mn+1):\n",
    "        if num1 % i == 0 and num2 % i ==0:\n",
    "            common_dividors.append(i)\n",
    "    return common_dividors\n",
    "\n",
    "dividors(20, 10)"
   ]
  },
  {
   "cell_type": "code",
   "execution_count": null,
   "metadata": {},
   "outputs": [],
   "source": [
    "eveen=[]\n",
    "def even_fun(num):\n",
    "    for i in range(num):\n",
    "        if i % 2==0:\n",
    "            print(eveen.append(num))\n",
    "    return eveen"
   ]
  },
  {
   "cell_type": "markdown",
   "metadata": {},
   "source": [
    "# Task 4. \n",
    "- Given two strings, write a program that efficiently finds the longest common subsequence\n",
    "\n",
    "- **Ex:** str1 = \"Welcome to Machine Learning Diploma\" str2 = \"I am studying a Machine Learning Course\" --> Machine Learning"
   ]
  },
  {
   "cell_type": "code",
   "execution_count": 7,
   "metadata": {},
   "outputs": [
    {
     "name": "stdout",
     "output_type": "stream",
     "text": [
      "h\n",
      "he\n",
      "hel\n",
      "hell\n",
      "hello\n",
      "hello \n",
      "hello a\n",
      "hello am\n",
      "hello ami\n",
      "hello amit\n",
      "e\n",
      "el\n",
      "ell\n",
      "ello\n",
      "ello \n",
      "ello a\n",
      "ello am\n",
      "ello ami\n",
      "ello amit\n",
      "l\n",
      "ll\n",
      "llo\n",
      "llo \n",
      "llo a\n",
      "llo am\n",
      "llo ami\n",
      "llo amit\n",
      "l\n",
      "lo\n",
      "lo \n",
      "lo a\n",
      "lo am\n",
      "lo ami\n",
      "lo amit\n",
      "o\n",
      "o \n",
      "o a\n",
      "o am\n",
      "o ami\n",
      "o amit\n",
      " \n",
      " a\n",
      " am\n",
      " ami\n",
      " amit\n",
      "a\n",
      "am\n",
      "ami\n",
      "amit\n",
      "m\n",
      "mi\n",
      "mit\n",
      "i\n",
      "it\n",
      "t\n"
     ]
    },
    {
     "data": {
      "text/plain": [
       "'o amit'"
      ]
     },
     "execution_count": 7,
     "metadata": {},
     "output_type": "execute_result"
    }
   ],
   "source": [
    "str1 = input()\n",
    "str2 = input()\n",
    "\n",
    "longes_str = \"\"\n",
    "for i in range(len(str1)):\n",
    "    # print(i)\n",
    "    for j in range(i, len(str1)):\n",
    "        # print(j)\n",
    "        sub_str = str1[i:j+1]\n",
    "        print(sub_str)\n",
    "        if sub_str in str2:\n",
    "            if len(sub_str) > len(longes_str):\n",
    "                \n",
    "                longes_str = sub_str\n",
    "longes_str"
   ]
  },
  {
   "cell_type": "markdown",
   "metadata": {},
   "source": [
    "# Task 5.\n",
    "- Write a function that will take a given string and reverse the order of words.\n",
    "\n",
    "- **Ex:** “Hello world” → ”world Hello”\n"
   ]
  },
  {
   "cell_type": "code",
   "execution_count": 10,
   "metadata": {},
   "outputs": [
    {
     "name": "stdout",
     "output_type": "stream",
     "text": [
      "['world', 'hello']\n",
      "world \n",
      "world hello \n"
     ]
    },
    {
     "data": {
      "text/plain": [
       "['world', 'hello']"
      ]
     },
     "execution_count": 10,
     "metadata": {},
     "output_type": "execute_result"
    }
   ],
   "source": [
    "def fun(s):\n",
    "    lst = s.split(\" \")\n",
    "    # print(lst)\n",
    "    new_lst = lst[::-1]\n",
    "    print(new_lst)\n",
    "    new_str = \"\"\n",
    "    for i in new_lst:\n",
    "        new_str += i + \" \"\n",
    "        print(new_str)\n",
    "    new_str = new_str[:-1]\n",
    "    # print(new_str)\n",
    "    \n",
    "    return new_lst\n",
    "s = \"Hello World . to the \"\n",
    "fun('hello world')"
   ]
  },
  {
   "cell_type": "code",
   "execution_count": 11,
   "metadata": {},
   "outputs": [
    {
     "data": {
      "text/plain": [
       "'World Hello'"
      ]
     },
     "execution_count": 11,
     "metadata": {},
     "output_type": "execute_result"
    }
   ],
   "source": [
    "# another solution\n",
    "def fun(s):\n",
    "    lst = s.split(\" \")\n",
    "    new_lst = lst[::-1]\n",
    "    new_str = \" \".join(new_lst)\n",
    "    return new_str\n",
    "s = \"Hello World\"\n",
    "fun(s)"
   ]
  },
  {
   "cell_type": "markdown",
   "metadata": {},
   "source": [
    "# Task 6.\n",
    "- Create a program that generates a random password of a given length.\n",
    "- Hint: use random module → import random → random.randrange"
   ]
  },
  {
   "cell_type": "code",
   "execution_count": 12,
   "metadata": {},
   "outputs": [
    {
     "name": "stdout",
     "output_type": "stream",
     "text": [
      "v!v1NFSu\n"
     ]
    }
   ],
   "source": [
    "import random\n",
    "\n",
    "class password_gen:\n",
    "    def __init__(self, length,s):\n",
    "        self.length = length\n",
    "        \n",
    "\n",
    "    def generate_password(self):\n",
    "        characters = \"abcdefghijklmnopqrstuvwxyzABCDEFGHIJKLMNOPQRSTUVWXYZ1234567890!@#$%^&*\"\n",
    "        num_of_chars = len(characters)\n",
    "        password = \"\"\n",
    "        \n",
    "\n",
    "        for _ in range(self.length):\n",
    "            rand_indx = random.randrange(0, num_of_chars)\n",
    "            password += characters[rand_indx]\n",
    "\n",
    "        return password\n",
    "    \n",
    "\n",
    "if __name__ == \"__main__\":\n",
    "\n",
    "    p1 =password_gen(8)\n",
    "    print(p1.generate_password())\n"
   ]
  },
  {
   "cell_type": "code",
   "execution_count": 26,
   "metadata": {},
   "outputs": [],
   "source": [
    "class person:\n",
    "    def __init__(self,color,length):\n",
    "        self.color='red'\n",
    "        self.length=length\n",
    "    def run(self):\n",
    "        length=10\n",
    "        print(f\"i am movement and have this color name \")"
   ]
  },
  {
   "cell_type": "code",
   "execution_count": 27,
   "metadata": {},
   "outputs": [
    {
     "name": "stdout",
     "output_type": "stream",
     "text": [
      "<__main__.person object at 0x0000020E034638B0>\n",
      "i am movement and have this color name  red\n"
     ]
    }
   ],
   "source": [
    "p=person('reversed')\n",
    "print(p)\n",
    "p.run()"
   ]
  },
  {
   "cell_type": "code",
   "execution_count": null,
   "metadata": {},
   "outputs": [
    {
     "name": "stdout",
     "output_type": "stream",
     "text": [
      "n1c!*!1D\n"
     ]
    }
   ],
   "source": [
    "\n",
    "class PasswordGenerator:\n",
    "    def __init__(self):\n",
    "        self.length = 8\n",
    "        self.characters = \"abcdefghijklmnopqrstuvwxyzABCDEFGHIJKLMNOPQRSTUVWXYZ1234567890!@#$%^&*\"\n",
    "    @properly\n",
    "    def generate_password(self,length):\n",
    "        password = \"\"\n",
    "        num_of_chars = len(self.characters)\n",
    "        \n",
    "        for _ in range(self.length):\n",
    "            rand_index = random.randrange(0, num_of_chars)\n",
    "            password += self.characters[rand_index]\n",
    "        \n",
    "        return password\n",
    "\n",
    "# Usage example\n",
    "if __name__ == \"__main__\":\n",
    "    \n",
    "    # password_length = 8  # You can change this to your desired length\n",
    "    generator = PasswordGenerator()\n",
    "    random_password = generator.generate_password\n",
    "    print(random_password)"
   ]
  },
  {
   "cell_type": "code",
   "execution_count": null,
   "metadata": {},
   "outputs": [],
   "source": [
    "if __name__ == \"__main__\":\n",
    "    password_length = 8\n",
    "    random_password = generate_password(password_length)\n",
    "    print(random_password)\n"
   ]
  },
  {
   "cell_type": "code",
   "execution_count": null,
   "metadata": {},
   "outputs": [],
   "source": []
  },
  {
   "cell_type": "code",
   "execution_count": 67,
   "metadata": {},
   "outputs": [
    {
     "name": "stdout",
     "output_type": "stream",
     "text": [
      "u9MVx5Yn\n"
     ]
    }
   ],
   "source": [
    "# another solution\n",
    "import random\n",
    "\n",
    "def generate_password(length):\n",
    "    characters = \"abcdefghijklmnopqrstuvwxyzABCDEFGHIJKLMNOPQRSTUVWXYZ1234567890!@#$%^&*\"\n",
    "    password = \"\"\n",
    "\n",
    "    for _ in range(length):\n",
    "        password += random.choice(characters)\n",
    "\n",
    "    return password\n",
    "\n",
    "# Usage example\n",
    "password_length = 8\n",
    "random_password = generate_password(password_length)\n",
    "print(random_password)\n"
   ]
  },
  {
   "cell_type": "markdown",
   "metadata": {},
   "source": [
    "# Task 7.\n",
    "- Write a Python program to find all the unique words and count the frequency of occurrence from a given list of strings\n",
    "\n",
    "- **Ex:** [\"Welcome\", \"Ali\", \"Hi\", \"Ali\", \"No\", \"Hi\", \"No\", \"Ali\", \"No\", \"Ali\"]  → {'Ali': 4, 'Welcome': 1, 'No': 3, 'Hi': 2}"
   ]
  },
  {
   "cell_type": "code",
   "execution_count": 31,
   "metadata": {},
   "outputs": [
    {
     "data": {
      "text/plain": [
       "{'Hi': 2, 'No': 3, 'Welcome': 1, 'Ali': 4}"
      ]
     },
     "execution_count": 31,
     "metadata": {},
     "output_type": "execute_result"
    }
   ],
   "source": [
    "words = [\"Welcome\", \"Ali\", \"Hi\", \"Ali\", \"No\", \"Hi\", \"No\", \"Ali\", \"No\", \"Ali\"]\n",
    "unique_words = set(words)\n",
    "counts = {word: 0 for word in unique_words}\n",
    "for i in unique_words:\n",
    "    for j in words:\n",
    "        if i == j:\n",
    "            counts[i] += 1\n",
    "counts"
   ]
  },
  {
   "cell_type": "code",
   "execution_count": 32,
   "metadata": {},
   "outputs": [
    {
     "name": "stdout",
     "output_type": "stream",
     "text": [
      "Hi:2\n",
      "No:3\n",
      "Welcome:1\n",
      "Ali:4\n"
     ]
    }
   ],
   "source": [
    "# another solution\n",
    "words = [\"Welcome\", \"Ali\", \"Hi\", \"Ali\", \"No\", \"Hi\", \"No\", \"Ali\", \"No\", \"Ali\"]\n",
    "unique_words = set(words)\n",
    "\n",
    "for word in unique_words:\n",
    "    print(f\"{word}:{words.count(word)}\")"
   ]
  },
  {
   "cell_type": "markdown",
   "metadata": {},
   "source": [
    "# Task 8.\n",
    "- Write a Python program to find all the unique words and count the frequency of occurrence from a text file and save the counts in a new file\n",
    "- This is the same as Task 7 but this time read words from a file\n",
    "- Hint: use replace function and split function"
   ]
  },
  {
   "cell_type": "markdown",
   "metadata": {},
   "source": [
    "**First Step: read the file**"
   ]
  },
  {
   "cell_type": "code",
   "execution_count": 33,
   "metadata": {},
   "outputs": [],
   "source": [
    "\n",
    "input_file = open(\"input_file.txt\", \"r\")\n",
    "text = input_file.read()\n",
    "input_file.close()"
   ]
  },
  {
   "cell_type": "markdown",
   "metadata": {},
   "source": [
    "**Second step: remove '\\n' then convert the file text into a list of words**"
   ]
  },
  {
   "cell_type": "code",
   "execution_count": 34,
   "metadata": {},
   "outputs": [],
   "source": [
    "text = text.replace('\\n', ' ')\n",
    "words = text.split(' ')"
   ]
  },
  {
   "cell_type": "markdown",
   "metadata": {},
   "source": [
    "**Third Step: get unique words, create a dictionary, then count unique words**"
   ]
  },
  {
   "cell_type": "code",
   "execution_count": 35,
   "metadata": {
    "scrolled": true
   },
   "outputs": [],
   "source": [
    "unique_words = set(words)\n",
    "word_counts = dict()\n",
    "\n",
    "for word in unique_words:\n",
    "    word_counts[word] = words.count(word)"
   ]
  },
  {
   "cell_type": "markdown",
   "metadata": {},
   "source": [
    "**Save the word-count pair into a text file**"
   ]
  },
  {
   "cell_type": "code",
   "execution_count": 36,
   "metadata": {},
   "outputs": [],
   "source": [
    "output_file = open(\"output_file.txt\", \"w\")\n",
    "for word in word_counts:\n",
    "    output_file.write(\"{}: {}\\n\".format(word, word_counts[word]))\n",
    "output_file.close()"
   ]
  },
  {
   "cell_type": "markdown",
   "metadata": {},
   "source": [
    "# Task 9.\n",
    "- Implement a basic chatbot that can respond to user input with predefined responses"
   ]
  },
  {
   "cell_type": "markdown",
   "metadata": {},
   "source": [
    "CONVERT IT TO CLASS STRUCTURE"
   ]
  },
  {
   "cell_type": "code",
   "execution_count": 13,
   "metadata": {},
   "outputs": [
    {
     "name": "stdout",
     "output_type": "stream",
     "text": [
      "Chatbot: Hi! How can I assist you today?\n",
      "Chatbot: Hello!\n",
      "Chatbot: Greetings!\n",
      "Chatbot: I'm fine, how about you?\n",
      "Chatbot: See you later!\n"
     ]
    }
   ],
   "source": [
    "import random\n",
    "\n",
    "# Predefined responses\n",
    "responses = {\n",
    "    \"hello\": [\"Hello!\", \"Hi there!\", \"Greetings!\"],\n",
    "    \"how are you\": [\"I'm doing well, thank you!\", \"I'm fine, how about you?\"],\n",
    "    \"goodbye\": [\"Goodbye!\", \"See you later!\", \"Farewell!\"],\n",
    "    \"default\": [\"I'm sorry, I didn't understand.\", \"Could you please rephrase that?\"]\n",
    "}\n",
    "\n",
    "# Function to get a response based on user input\n",
    "def get_response(user_input):\n",
    "    for key in responses:\n",
    "        if key in user_input:\n",
    "            return random.choice(responses[key])\n",
    "    \n",
    "    return random.choice(responses[\"default\"])\n",
    "\n",
    "# Chatbot function\n",
    "def chatbot():\n",
    "    print(\"Chatbot: Hi! How can I assist you today?\")\n",
    "    \n",
    "    while True:\n",
    "        user_input = input(\"User: \").lower()\n",
    "        response = get_response(user_input)\n",
    "        print(\"Chatbot:\", response)\n",
    "        \n",
    "        if user_input == \"goodbye\":\n",
    "            break\n",
    "\n",
    "# Run the chatbot\n",
    "chatbot()\n"
   ]
  },
  {
   "cell_type": "markdown",
   "metadata": {},
   "source": [
    "# Task 10: Person class and child Student class \n",
    "Create a Python class Person with attributes: name and age.\n",
    "- Create a display() method that displays the name and age of an object created via the Person class.\n",
    "- Create a child class Student which inherits from the Person class and which also has an extra attribute called school.\n",
    "- Create a method displayStudent() that displays the name, age and section of an object created via the Student class.\n",
    "- Create a student object via an instantiation on the Student class and then test the displayStudent method"
   ]
  },
  {
   "cell_type": "code",
   "execution_count": null,
   "metadata": {},
   "outputs": [],
   "source": [
    "class Person:\n",
    "    \n",
    "    def __init__(self, name, age):\n",
    "        self.name = name\n",
    "        self.age = age\n",
    "    @absracrmethode\n",
    "    def display(self):\n",
    "        pass\n",
    "\n"
   ]
  },
  {
   "cell_type": "code",
   "execution_count": 51,
   "metadata": {},
   "outputs": [
    {
     "name": "stdout",
     "output_type": "stream",
     "text": [
      "Name: George \n",
      "Age: 38\n"
     ]
    }
   ],
   "source": [
    "p = Person('George',38)\n",
    "p.display()\n"
   ]
  },
  {
   "cell_type": "code",
   "execution_count": null,
   "metadata": {},
   "outputs": [],
   "source": []
  },
  {
   "cell_type": "code",
   "execution_count": 52,
   "metadata": {},
   "outputs": [
    {
     "name": "stdout",
     "output_type": "stream",
     "text": [
      "Name: Amr \n",
      "Age: 15\n",
      "School: ABC School \n",
      "\n",
      "Name: Amr \n",
      "Age: 15\n"
     ]
    }
   ],
   "source": [
    "class Child(Person):\n",
    "    def __init__(self, name, age, school):\n",
    "        super().__init__(name, age)\n",
    "        self.school = school\n",
    "        \n",
    "    def displayStudent(self):\n",
    "        super().display()\n",
    "        print(\"School: {} \\n\".format(self.school))\n",
    "\n",
    "child1 = Child(\"Amr\", 15, \"ABC School\")\n",
    "child1.displayStudent()\n",
    "child1.display()"
   ]
  },
  {
   "cell_type": "code",
   "execution_count": null,
   "metadata": {},
   "outputs": [],
   "source": []
  },
  {
   "cell_type": "code",
   "execution_count": null,
   "metadata": {},
   "outputs": [],
   "source": []
  },
  {
   "cell_type": "code",
   "execution_count": null,
   "metadata": {},
   "outputs": [],
   "source": []
  },
  {
   "cell_type": "markdown",
   "metadata": {},
   "source": [
    "# Task 11: Rectangle class: \n",
    "- Write a Rectangle class in Python language, allowing you to build a rectangle with length and width attributes.\n",
    "- Create a Perimeter() method to calculate the perimeter of the rectangle and a Area() method to calculate the area of the rectangle.\n",
    "- Create a method display() that display the length, width, perimeter and area of an object created using an instantiation on rectangle class.\n",
    "- Create a Parallelepipede child class inheriting from the Rectangle class and with a height attribute and another Volume() method to calculate the volume of the Parallelepiped."
   ]
  },
  {
   "cell_type": "code",
   "execution_count": 6,
   "metadata": {},
   "outputs": [
    {
     "name": "stdout",
     "output_type": "stream",
     "text": [
      "Length: 30 \n",
      "Width: 20 \n",
      "Perimeter: 100 \n",
      "Area: 600\n"
     ]
    }
   ],
   "source": [
    "class Rectangle:\n",
    "    def __init__(self, length, width):\n",
    "        self.length = length\n",
    "        self.width = width\n",
    "    \n",
    "    def perimeter(self):\n",
    "        rect_perimeter = (self.length + self.width) * 2\n",
    "        return rect_perimeter\n",
    "    \n",
    "    def area(self):\n",
    "        rect_area =  self.width * self.length\n",
    "        return rect_area\n",
    "    \n",
    "    def display(self):\n",
    "        area =  self.area()\n",
    "        perimeter = self.perimeter()\n",
    "        \n",
    "        print(\"Length: {} \\nWidth: {} \\nPerimeter: {} \\nArea: {}\".format(self.length, self.width, perimeter, area))\n",
    "    \n",
    "rect1 = Rectangle(30, 20)\n",
    "rect1.display()"
   ]
  },
  {
   "cell_type": "code",
   "execution_count": 13,
   "metadata": {
    "scrolled": true
   },
   "outputs": [
    {
     "name": "stdout",
     "output_type": "stream",
     "text": [
      "Length: 20 \n",
      "Width: 30 \n",
      "Height: 10 \n",
      "Perimeter: No Perimeter \n",
      "Area: 2200 \n",
      "Volume: 6000\n"
     ]
    }
   ],
   "source": [
    "class Parallelepiped(Rectangle):\n",
    "    def __init__(self, length, width, height):\n",
    "        super().__init__(length, width)\n",
    "        self.height = height\n",
    "    \n",
    "    def perimeter(self):\n",
    "        return \"No Perimeter\"\n",
    "    \n",
    "    def area(self):\n",
    "        paral_area = self.length * self.width *2 + self.length * self.height * 2 + self.width * self.height * 2 \n",
    "        return paral_area\n",
    "    \n",
    "    def volume(self):\n",
    "        vol = self.length * self.width * self.height\n",
    "        return vol\n",
    "    \n",
    "    \n",
    "    def display(self):\n",
    "        perimeter = self.perimeter()\n",
    "        area =  self.area()\n",
    "        volume = self.volume()\n",
    "        \n",
    "        print(\"Length: {} \\nWidth: {} \\nHeight: {} \\nPerimeter: {} \\nArea: {} \\nVolume: {}\".format(self.length, self.width, self.height, perimeter, area, volume))\n",
    "\n",
    "paral1 = Parallelepiped(20, 30, 10)\n",
    "paral1.display()"
   ]
  },
  {
   "cell_type": "code",
   "execution_count": null,
   "metadata": {},
   "outputs": [],
   "source": []
  },
  {
   "cell_type": "code",
   "execution_count": null,
   "metadata": {},
   "outputs": [
    {
     "name": "stdout",
     "output_type": "stream",
     "text": [
      "(('george', 'ahmed'),)\n"
     ]
    }
   ],
   "source": [
    "def fprint(*x):\n",
    "    print(x)\n",
    "tuple1=('george','ahmed')\n",
    "fprint(tuple1)\n",
    "\n",
    "x == y "
   ]
  },
  {
   "cell_type": "code",
   "execution_count": null,
   "metadata": {},
   "outputs": [
    {
     "name": "stdout",
     "output_type": "stream",
     "text": [
      "Name: George, Age: 38\n"
     ]
    }
   ],
   "source": [
    "class person:\n",
    "    \n",
    "    def display(self):\n",
    "        print(f\"Name: {self.name}, Age: {self.age}\")\n",
    "        \n",
    "    def __init__(self, name, age):\n",
    "        self.name = name\n",
    "        self.age = age\n",
    "        \n",
    "if __name__ == '__main__':\n",
    "    p = person('George', 38)\n",
    "    p.display()"
   ]
  },
  {
   "cell_type": "code",
   "execution_count": null,
   "metadata": {},
   "outputs": [],
   "source": []
  }
 ],
 "metadata": {
  "kernelspec": {
   "display_name": "venv",
   "language": "python",
   "name": "python3"
  },
  "language_info": {
   "codemirror_mode": {
    "name": "ipython",
    "version": 3
   },
   "file_extension": ".py",
   "mimetype": "text/x-python",
   "name": "python",
   "nbconvert_exporter": "python",
   "pygments_lexer": "ipython3",
   "version": "3.10.0rc2"
  }
 },
 "nbformat": 4,
 "nbformat_minor": 2
}
