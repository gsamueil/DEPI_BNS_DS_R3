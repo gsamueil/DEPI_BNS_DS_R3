{
 "cells": [
  {
   "cell_type": "markdown",
   "metadata": {},
   "source": [
    "# for Loops\n",
    "\n"
   ]
  },
  {
   "cell_type": "markdown",
   "metadata": {},
   "source": [
    "\n",
    "\n",
    "## Example 1\n",
    "4Iterating through a list"
   ]
  },
  {
   "cell_type": "code",
   "execution_count": 5,
   "metadata": {},
   "outputs": [
    {
     "name": "stdout",
     "output_type": "stream",
     "text": [
      "20\n",
      "<class 'function'>\n",
      "<class 'function'>\n"
     ]
    }
   ],
   "source": [
    "z=lambda x:x+10\n",
    "print(z(10))\n",
    "print(type(z))\n",
    "\n",
    "def addtion(x):\n",
    "    return x\n",
    "\n",
    "\n",
    "print(type(addtion))"
   ]
  },
  {
   "cell_type": "code",
   "execution_count": null,
   "metadata": {},
   "outputs": [
    {
     "name": "stdout",
     "output_type": "stream",
     "text": [
      "[1, 2, 3, 4, 5, 6, 7, 8, 9, 10]\n",
      "1\n",
      "2\n",
      "3\n",
      "4\n",
      "5\n",
      "6\n",
      "7\n",
      "8\n",
      "9\n",
      "10\n"
     ]
    }
   ],
   "source": [
    "\n",
    "list1 = [1,2,3,4,5,6,7,8,9,10]\n",
    "# print(list1)\n",
    "for number in list1: \n",
    "    print(number)\n",
    "\n"
   ]
  },
  {
   "cell_type": "markdown",
   "metadata": {},
   "source": [
    "\n",
    "\n",
    "## Example 2\n"
   ]
  },
  {
   "cell_type": "code",
   "execution_count": null,
   "metadata": {},
   "outputs": [
    {
     "name": "stdout",
     "output_type": "stream",
     "text": [
      "even number  is 2\n",
      "even number  is 4\n",
      "even number  is 6\n",
      "even number  is 8\n",
      "even number  is 10\n"
     ]
    }
   ],
   "source": [
    "list1=[1,2,3,4,5,6,7,8,9,10]\n",
    "for num in list1:\n",
    "    if num % 2 == 0:\n",
    "        print(f\"even number  is {num}\")\n",
    "        \n",
    "x=5\n",
    "y=10       \n",
    "print('first number{x} second number{y}'.format(x,y))"
   ]
  },
  {
   "cell_type": "code",
   "execution_count": 9,
   "metadata": {},
   "outputs": [],
   "source": [
    "# list1=[1,2,3,4,5,6,78,9,10]\n",
    "def even_odd(x):  \n",
    "\n",
    "    if x % 2 == 0:\n",
    "        print('even is {}'.format(x))\n",
    "    else:\n",
    "        print('odd is {}'.format(x))"
   ]
  },
  {
   "cell_type": "code",
   "execution_count": 3,
   "metadata": {},
   "outputs": [
    {
     "name": "stdout",
     "output_type": "stream",
     "text": [
      "my age is 44\n"
     ]
    }
   ],
   "source": [
    "x=44\n",
    "print(f\"my age is {x}\")"
   ]
  },
  {
   "cell_type": "code",
   "execution_count": 10,
   "metadata": {},
   "outputs": [
    {
     "name": "stdout",
     "output_type": "stream",
     "text": [
      "odd is 3\n"
     ]
    }
   ],
   "source": [
    "even_odd(3)"
   ]
  },
  {
   "cell_type": "markdown",
   "metadata": {},
   "source": [
    "\n",
    "## Example 3\n"
   ]
  },
  {
   "cell_type": "code",
   "execution_count": null,
   "metadata": {},
   "outputs": [],
   "source": [
    "\n",
    "def add_list(list1):\n",
    "    # list_sum = 1\n",
    "    for num in list1:\n",
    "        list_sum = list_sum+num\n",
    "    print(list_sum)"
   ]
  },
  {
   "cell_type": "markdown",
   "metadata": {},
   "source": []
  },
  {
   "cell_type": "code",
   "execution_count": 28,
   "metadata": {},
   "outputs": [
    {
     "name": "stdout",
     "output_type": "stream",
     "text": [
      "56\n"
     ]
    }
   ],
   "source": [
    "# Start sum at zero\n",
    "list1 = [1,2,3,4,5,6,7,8,9,10]\n",
    "# list_sum = 1\n",
    "\n",
    "add_list(list1)"
   ]
  },
  {
   "cell_type": "markdown",
   "metadata": {},
   "source": [
    "## Example 4\n"
   ]
  },
  {
   "cell_type": "code",
   "execution_count": 7,
   "metadata": {},
   "outputs": [
    {
     "name": "stdout",
     "output_type": "stream",
     "text": [
      "T\n",
      "h\n",
      "i\n",
      "s\n",
      " \n",
      "i\n",
      "s\n",
      " \n",
      "a\n",
      " \n",
      "s\n",
      "t\n",
      "r\n",
      "i\n",
      "n\n",
      "g\n",
      ".\n"
     ]
    }
   ],
   "source": [
    "for letter in 'This is a string.':\n",
    "    print(letter)"
   ]
  },
  {
   "cell_type": "markdown",
   "metadata": {},
   "source": [
    "## Example 5\n"
   ]
  },
  {
   "cell_type": "code",
   "execution_count": 8,
   "metadata": {},
   "outputs": [
    {
     "name": "stdout",
     "output_type": "stream",
     "text": [
      "1\n",
      "2\n",
      "3\n",
      "4\n",
      "5\n"
     ]
    }
   ],
   "source": [
    "tup = (1,2,3,4,5)\n",
    "\n",
    "for t in tup:\n",
    "    print(t)"
   ]
  },
  {
   "cell_type": "markdown",
   "metadata": {},
   "source": [
    "## Example 6\n"
   ]
  },
  {
   "cell_type": "code",
   "execution_count": 8,
   "metadata": {},
   "outputs": [
    {
     "name": "stdout",
     "output_type": "stream",
     "text": [
      "(2, 4)\n",
      "(6, 8)\n",
      "(10, 12)\n"
     ]
    }
   ],
   "source": [
    "list2 = [(2,4),(6,8),(10,12)]\n",
    "for number in list2:\n",
    "    print(number)"
   ]
  },
  {
   "cell_type": "code",
   "execution_count": 10,
   "metadata": {},
   "outputs": [
    {
     "name": "stdout",
     "output_type": "stream",
     "text": [
      "2 4\n",
      "6 8\n",
      "10 12\n"
     ]
    }
   ],
   "source": [
    "# Now with unpacking!\n",
    "for (t1,t2) in list2:\n",
    "    # i want two values only \n",
    "    print(t1,t2)"
   ]
  },
  {
   "cell_type": "code",
   "execution_count": 30,
   "metadata": {},
   "outputs": [
    {
     "data": {
      "text/plain": [
       "[2, 5, 8]"
      ]
     },
     "execution_count": 30,
     "metadata": {},
     "output_type": "execute_result"
    }
   ],
   "source": [
    "x=[[1,2,3],[4,5,6],[7,8,9]]\n",
    "\n",
    "\n",
    "x=[num[1]for num in x] #list comprehension\n",
    "x"
   ]
  },
  {
   "cell_type": "code",
   "execution_count": 16,
   "metadata": {},
   "outputs": [
    {
     "data": {
      "text/plain": [
       "[4, 7]"
      ]
     },
     "execution_count": 16,
     "metadata": {},
     "output_type": "execute_result"
    }
   ],
   "source": [
    "x=[[1,2,3],[4,5,6],[7,8,9]]\n",
    "\n",
    "\n",
    "x=[num[0]for num in x if num[0]>3] #list comprehension\n",
    "x"
   ]
  },
  {
   "cell_type": "markdown",
   "metadata": {},
   "source": [
    "## Example 7"
   ]
  },
  {
   "cell_type": "code",
   "execution_count": 18,
   "metadata": {},
   "outputs": [
    {
     "data": {
      "text/plain": [
       "dict_items([('k1', 1), ('k2', 2), ('k3', 3)])"
      ]
     },
     "execution_count": 18,
     "metadata": {},
     "output_type": "execute_result"
    }
   ],
   "source": [
    "d = {'k1':1,'k2':2,'k3':3}\n",
    "d.items()"
   ]
  },
  {
   "cell_type": "code",
   "execution_count": 19,
   "metadata": {},
   "outputs": [
    {
     "name": "stdout",
     "output_type": "stream",
     "text": [
      "k1\n",
      "k2\n",
      "k3\n"
     ]
    }
   ],
   "source": [
    "for item in d.keys():\n",
    "    print(item)"
   ]
  },
  {
   "cell_type": "code",
   "execution_count": 22,
   "metadata": {},
   "outputs": [
    {
     "name": "stdout",
     "output_type": "stream",
     "text": [
      "k1 1\n",
      "k2 2\n",
      "k3 3\n"
     ]
    }
   ],
   "source": [
    "# Dictionary unpacking\n",
    "for k,v in d.items():\n",
    "    print(k,v)\n",
    "    "
   ]
  },
  {
   "cell_type": "markdown",
   "metadata": {},
   "source": [
    "# while Loops\n",
    "\n"
   ]
  },
  {
   "cell_type": "code",
   "execution_count": 101,
   "metadata": {},
   "outputs": [
    {
     "name": "stdout",
     "output_type": "stream",
     "text": [
      "0\n",
      "1\n",
      "2\n",
      "3\n",
      "4\n",
      "5\n",
      "6\n",
      "7\n",
      "8\n",
      "9\n"
     ]
    }
   ],
   "source": [
    "cnt = 0\n",
    "while cnt < 10:\n",
    "  print(cnt)\n",
    "  cnt = cnt + 1"
   ]
  },
  {
   "cell_type": "code",
   "execution_count": 31,
   "metadata": {},
   "outputs": [
    {
     "name": "stdout",
     "output_type": "stream",
     "text": [
      "x is currently:  0\n",
      "x is currently:  1\n",
      "x is currently:  2\n",
      "x is currently:  3\n",
      "x is currently:  4\n",
      "x is currently:  5\n",
      "x is currently:  6\n",
      "x is currently:  7\n",
      "x is currently:  8\n",
      "x is currently:  9\n",
      "x is currently:  10\n"
     ]
    }
   ],
   "source": [
    "x =0\n",
    "\n",
    "while x <= 10:\n",
    "    print('x is currently: ',x)\n",
    "    x+=1  #x=x+1\n"
   ]
  },
  {
   "cell_type": "code",
   "execution_count": 28,
   "metadata": {},
   "outputs": [
    {
     "name": "stdout",
     "output_type": "stream",
     "text": [
      "x is currently:  0\n",
      " x is still less than 10, adding 1 to x\n",
      "x is currently:  1\n",
      " x is still less than 10, adding 1 to x\n",
      "x is currently:  2\n",
      " x is still less than 10, adding 1 to x\n",
      "x is currently:  3\n",
      " x is still less than 10, adding 1 to x\n",
      "x is currently:  4\n",
      " x is still less than 10, adding 1 to x\n",
      "x is currently:  5\n",
      " x is still less than 10, adding 1 to x\n",
      "x is currently:  6\n",
      " x is still less than 10, adding 1 to x\n",
      "x is currently:  7\n",
      " x is still less than 10, adding 1 to x\n",
      "x is currently:  8\n",
      " x is still less than 10, adding 1 to x\n",
      "x is currently:  9\n",
      " x is still less than 10, adding 1 to x\n",
      "All Done!\n"
     ]
    }
   ],
   "source": [
    "x = 0\n",
    "\n",
    "while x < 10:\n",
    "    print('x is currently: ',x)\n",
    "    print(' x is still less than 10, adding 1 to x')\n",
    "    x+=1\n",
    "    \n",
    "else:\n",
    "    print('All Done!')"
   ]
  },
  {
   "cell_type": "code",
   "execution_count": 29,
   "metadata": {},
   "outputs": [
    {
     "name": "stdout",
     "output_type": "stream",
     "text": [
      "1\n",
      "2\n",
      "3\n",
      "7\n",
      "10\n",
      "13\n",
      "14\n",
      "15\n",
      "19\n"
     ]
    }
   ],
   "source": [
    "myNumbers = [1, 2, 3, 5, 7, 10, 13, 14, 15, 19]\n",
    "\n",
    "# Continue\n",
    "\n",
    "for number in myNumbers:\n",
    "    \n",
    "    if number ==5:\n",
    "        continue\n",
    "    print(number)\n",
    "\n"
   ]
  },
  {
   "cell_type": "code",
   "execution_count": 30,
   "metadata": {},
   "outputs": [
    {
     "name": "stdout",
     "output_type": "stream",
     "text": [
      "x is currently:  0\n",
      " x is still less than 10, adding 1 to x\n",
      "x is currently:  1\n",
      " x is still less than 10, adding 1 to x\n",
      "x is currently:  2\n",
      " x is still less than 10, adding 1 to x\n",
      "Breaking because x==3\n"
     ]
    }
   ],
   "source": [
    "x = 0\n",
    "\n",
    "while x < 10:\n",
    "    \n",
    "    print('x is currently: ',x)\n",
    "    print(' x is still less than 10, adding 1 to x')\n",
    "    x+=1\n",
    "    if x==3:\n",
    "        print('Breaking because x==3')\n",
    "        break\n"
   ]
  },
  {
   "cell_type": "code",
   "execution_count": null,
   "metadata": {},
   "outputs": [],
   "source": [
    "# DO NOT RUN THIS CODE!!!! \n",
    "while True:\n",
    "    print(\"I'm stuck in an infinite loop!\")\n",
    " \n"
   ]
  },
  {
   "cell_type": "code",
   "execution_count": 102,
   "metadata": {},
   "outputs": [
    {
     "name": "stdout",
     "output_type": "stream",
     "text": [
      "10\n",
      "20\n"
     ]
    }
   ],
   "source": [
    "while True:\n",
    "  x = input()\n",
    "  if x == \"\":\n",
    "    break\n",
    "  print(x)"
   ]
  },
  {
   "cell_type": "code",
   "execution_count": null,
   "metadata": {},
   "outputs": [],
   "source": [
    "while True:\n",
    "  x = input()\n",
    "  if x == \"\":\n",
    "    continue\n",
    "  print(x)"
   ]
  },
  {
   "cell_type": "code",
   "execution_count": null,
   "metadata": {},
   "outputs": [],
   "source": []
  },
  {
   "cell_type": "markdown",
   "metadata": {},
   "source": [
    "# Functions\n"
   ]
  },
  {
   "cell_type": "markdown",
   "metadata": {},
   "source": [
    "### Example 1: A simple print 'hello' function"
   ]
  },
  {
   "cell_type": "code",
   "execution_count": 34,
   "metadata": {},
   "outputs": [],
   "source": [
    "def say_hello(): \n",
    "    print('hello') \n",
    "    "
   ]
  },
  {
   "cell_type": "markdown",
   "metadata": {},
   "source": [
    "Call the function:"
   ]
  },
  {
   "cell_type": "code",
   "execution_count": 35,
   "metadata": {},
   "outputs": [
    {
     "name": "stdout",
     "output_type": "stream",
     "text": [
      "hello\n"
     ]
    }
   ],
   "source": [
    "say_hello()"
   ]
  },
  {
   "cell_type": "code",
   "execution_count": 105,
   "metadata": {},
   "outputs": [
    {
     "name": "stdout",
     "output_type": "stream",
     "text": [
      "welcome\n"
     ]
    }
   ],
   "source": [
    "def fun(x):\n",
    "  print(x)\n",
    "\n",
    "fun(\"welcome\")"
   ]
  },
  {
   "cell_type": "code",
   "execution_count": 106,
   "metadata": {},
   "outputs": [
    {
     "name": "stdout",
     "output_type": "stream",
     "text": [
      "Amit\n"
     ]
    }
   ],
   "source": [
    "def fun(x = \"Amit\"):\n",
    "  print(x)\n",
    "\n",
    "fun()"
   ]
  },
  {
   "cell_type": "markdown",
   "metadata": {},
   "source": [
    "### Example 2: A simple greeting function\n"
   ]
  },
  {
   "cell_type": "code",
   "execution_count": 36,
   "metadata": {},
   "outputs": [],
   "source": [
    "def greeting(name,name2):\n",
    "    print('Hello {} and also hello {}' .format(name,name2))"
   ]
  },
  {
   "cell_type": "code",
   "execution_count": 37,
   "metadata": {},
   "outputs": [
    {
     "name": "stdout",
     "output_type": "stream",
     "text": [
      "Hello 20 and also hello 30\n"
     ]
    }
   ],
   "source": [
    "x=input('enter name1')\n",
    "y=input('enter name2')\n",
    "\n",
    "\n",
    "greeting(x,y)"
   ]
  },
  {
   "cell_type": "markdown",
   "metadata": {},
   "source": [
    "## Using return\n",
    "\n",
    "### Example 3: Addition function"
   ]
  },
  {
   "cell_type": "code",
   "execution_count": 38,
   "metadata": {},
   "outputs": [],
   "source": [
    "def ahmed(num1,num2):\n",
    "    \n",
    "    return num1 + num2"
   ]
  },
  {
   "cell_type": "code",
   "execution_count": 39,
   "metadata": {},
   "outputs": [
    {
     "data": {
      "text/plain": [
       "30"
      ]
     },
     "execution_count": 39,
     "metadata": {},
     "output_type": "execute_result"
    }
   ],
   "source": [
    "x=int(input('enter first number'))\n",
    "\n",
    "y=int(input('enter second number'))\n",
    "\n",
    "ahmed(x,y)"
   ]
  },
  {
   "cell_type": "code",
   "execution_count": 40,
   "metadata": {},
   "outputs": [
    {
     "name": "stdout",
     "output_type": "stream",
     "text": [
      "30\n"
     ]
    }
   ],
   "source": [
    "# Can also save as variable due to return\n",
    "result=ahmed(10,20) \n",
    "print(result)"
   ]
  },
  {
   "cell_type": "markdown",
   "metadata": {},
   "source": [
    "***Args**"
   ]
  },
  {
   "cell_type": "code",
   "execution_count": 111,
   "metadata": {},
   "outputs": [
    {
     "name": "stdout",
     "output_type": "stream",
     "text": [
      "5\n",
      "Ali\n",
      "[1, 2]\n"
     ]
    }
   ],
   "source": [
    "# tuple1=(5, 'Ali', [1, 2])\n",
    "# for i in tuple1:\n",
    "#       print(i)\n",
    "def fun(*arguments):\n",
    "  for argument in arguments:\n",
    "      \n",
    "    print(argument)\n",
    "\n",
    "fun(5, \"Ali\", [1, 2])"
   ]
  },
  {
   "cell_type": "markdown",
   "metadata": {},
   "source": [
    "# Pass Keyword\n",
    "\n",
    "Acts as a placeholder"
   ]
  },
  {
   "cell_type": "code",
   "execution_count": 127,
   "metadata": {},
   "outputs": [
    {
     "name": "stdout",
     "output_type": "stream",
     "text": [
      "george\n",
      "samuel,\n"
     ]
    }
   ],
   "source": [
    "def fun(* name):\n",
    "  for i in name:\n",
    "    print(i)\n",
    "fun('george','samuel,')"
   ]
  },
  {
   "cell_type": "markdown",
   "metadata": {},
   "source": [
    "**Recursion**"
   ]
  },
  {
   "cell_type": "code",
   "execution_count": null,
   "metadata": {},
   "outputs": [
    {
     "data": {
      "text/plain": [
       "15"
      ]
     },
     "execution_count": 122,
     "metadata": {},
     "output_type": "execute_result"
    }
   ],
   "source": [
    "def fun(x):\n",
    "  if x <= 1:\n",
    "    return x\n",
    "  return x + fun(x-1)\n",
    "fun(5)\n",
    "\n",
    "# fun(5) = 5 + (4 + (3 + (2 + 1))) = 5 + 4 + 3 + 2 + 1 = 15\n",
    "# This function calculates the sum of the first x natural numbers, which is the well-known formula:\n",
    "\n"
   ]
  },
  {
   "attachments": {
    "image.png": {
     "image/png": "[encoded data removed]"
    }
   },
   "cell_type": "markdown",
   "metadata": {},
   "source": [
    "![image.png](attachment:image.png)"
   ]
  },
  {
   "cell_type": "markdown",
   "metadata": {},
   "source": [
    "**useful in commenting**"
   ]
  },
  {
   "cell_type": "code",
   "execution_count": 128,
   "metadata": {},
   "outputs": [
    {
     "data": {
      "text/plain": [
       "int"
      ]
     },
     "execution_count": 128,
     "metadata": {},
     "output_type": "execute_result"
    }
   ],
   "source": [
    "\"\"\"\n",
    "this is a comment which I don't want to display\n",
    "Thank you\n",
    "\"\"\"\n",
    "pass\n",
    "\n",
    "age=int(input(\"insert your age\"))\n",
    "type(age)"
   ]
  },
  {
   "cell_type": "markdown",
   "metadata": {},
   "source": [
    "- 4 functions \n",
    "\n",
    "\n",
    " - user 1 2 3 4 \n",
    "- 1 add\n",
    "- 2 sub\n",
    "- 3 mult\n",
    "- 4 div\n",
    "\n",
    "- user first num\n",
    "- usersec num\n",
    "\n",
    "- if user 1 : add\n",
    "- if user 2 : sub\n",
    "- if user 3 : mul\n",
    "- if user 4 : div"
   ]
  },
  {
   "cell_type": "code",
   "execution_count": null,
   "metadata": {},
   "outputs": [
    {
     "name": "stdout",
     "output_type": "stream",
     "text": [
      "1.Add\n",
      "2.Subtract\n",
      "3.Multiply\n",
      "4.Divide\n",
      "20 * 30 = 600\n"
     ]
    },
    {
     "ename": "",
     "evalue": "",
     "output_type": "error",
     "traceback": [
      "\u001b[1;31mThe Kernel crashed while executing code in the current cell or a previous cell. \n",
      "\u001b[1;31mPlease review the code in the cell(s) to identify a possible cause of the failure. \n",
      "\u001b[1;31mClick <a href='https://aka.ms/vscodeJupyterKernelCrash'>here</a> for more info. \n",
      "\u001b[1;31mView Jupyter <a href='command:jupyter.viewOutput'>log</a> for further details."
     ]
    }
   ],
   "source": [
    "def add(x, y):\n",
    "    return x + y\n",
    "\n",
    "def subtract(x, y):\n",
    "    return x - y\n",
    "\n",
    "def multiply(x, y):\n",
    "    return x * y\n",
    "\n",
    "def divide(x, y):\n",
    "    return x / y\n",
    "\n",
    "print(\"1.Add\")\n",
    "print(\"2.Subtract\")\n",
    "print(\"3.Multiply\")\n",
    "print(\"4.Divide\")\n",
    "\n",
    "choice = input(\"Enter choice(1/2/3/4): \")\n",
    "\n",
    "num1 = int(input(\"Enter first number: \"))\n",
    "num2 = int(input(\"Enter second number: \"))\n",
    "\n",
    "if choice == '1':\n",
    "    print(num1,\"+\",num2,\"=\", add(num1,num2))\n",
    "\n",
    "elif choice == '2':\n",
    "    print(num1,\"-\",num2,\"=\", subtract(num1,num2))\n",
    "\n",
    "elif choice == '3':\n",
    "    print(num1,\"*\",num2,\"=\", multiply(num1,num2))\n",
    "\n",
    "elif choice == '4':\n",
    "    print(num1,\"/\",num2,\"=\", divide(num1,num2))\n",
    "else:\n",
    "    print(\"Invalid input\")"
   ]
  },
  {
   "cell_type": "markdown",
   "metadata": {},
   "source": [
    "# Lambda Expressions, Map, and Filter\n",
    "\n"
   ]
  },
  {
   "cell_type": "code",
   "execution_count": 43,
   "metadata": {},
   "outputs": [],
   "source": [
    "def square(num):\n",
    "    return num**2"
   ]
  },
  {
   "cell_type": "code",
   "execution_count": 44,
   "metadata": {},
   "outputs": [
    {
     "data": {
      "text/plain": [
       "4"
      ]
     },
     "execution_count": 44,
     "metadata": {},
     "output_type": "execute_result"
    }
   ],
   "source": [
    "square(2)"
   ]
  },
  {
   "cell_type": "code",
   "execution_count": 46,
   "metadata": {},
   "outputs": [
    {
     "data": {
      "text/plain": [
       "<map at 0x1d777dc3b50>"
      ]
     },
     "execution_count": 46,
     "metadata": {},
     "output_type": "execute_result"
    }
   ],
   "source": [
    "my_nums = [1,2,3,4,5]\n",
    "map(square,my_nums)"
   ]
  },
  {
   "cell_type": "code",
   "execution_count": 47,
   "metadata": {},
   "outputs": [
    {
     "data": {
      "text/plain": [
       "[1, 4, 9, 16, 25]"
      ]
     },
     "execution_count": 47,
     "metadata": {},
     "output_type": "execute_result"
    }
   ],
   "source": [
    "list(map(square,my_nums))"
   ]
  },
  {
   "cell_type": "code",
   "execution_count": 48,
   "metadata": {},
   "outputs": [],
   "source": [
    "def splicer(ahmed):\n",
    "    if len(ahmed) % 2 == 0:\n",
    "        return 'even'\n",
    "    else:\n",
    "        return ahmed[0]"
   ]
  },
  {
   "cell_type": "code",
   "execution_count": 49,
   "metadata": {},
   "outputs": [
    {
     "data": {
      "text/plain": [
       "'a'"
      ]
     },
     "execution_count": 49,
     "metadata": {},
     "output_type": "execute_result"
    }
   ],
   "source": [
    "splicer('ahmed')"
   ]
  },
  {
   "cell_type": "code",
   "execution_count": 50,
   "metadata": {},
   "outputs": [],
   "source": [
    "mynames = ['John','Cindy','Sarah','Kelly','Mike']"
   ]
  },
  {
   "cell_type": "code",
   "execution_count": 51,
   "metadata": {},
   "outputs": [
    {
     "data": {
      "text/plain": [
       "['even', 'C', 'S', 'K', 'even']"
      ]
     },
     "execution_count": 51,
     "metadata": {},
     "output_type": "execute_result"
    }
   ],
   "source": [
    "list(map(splicer,mynames))"
   ]
  },
  {
   "cell_type": "markdown",
   "metadata": {},
   "source": [
    "## filter function\n"
   ]
  },
  {
   "cell_type": "code",
   "execution_count": null,
   "metadata": {},
   "outputs": [
    {
     "data": {
      "text/plain": [
       "False"
      ]
     },
     "execution_count": 52,
     "metadata": {},
     "output_type": "execute_result"
    }
   ],
   "source": [
    "def check_even(num):\n",
    "    return num % 2 == 0 \n",
    "check_even(5)"
   ]
  },
  {
   "cell_type": "code",
   "execution_count": 53,
   "metadata": {},
   "outputs": [],
   "source": [
    "nums = [0,1,2,3,4,5,6,7,8,9,10]"
   ]
  },
  {
   "cell_type": "code",
   "execution_count": 54,
   "metadata": {},
   "outputs": [
    {
     "data": {
      "text/plain": [
       "<filter at 0x1d777be37c0>"
      ]
     },
     "execution_count": 54,
     "metadata": {},
     "output_type": "execute_result"
    }
   ],
   "source": [
    "filter(check_even,nums)"
   ]
  },
  {
   "cell_type": "code",
   "execution_count": 55,
   "metadata": {},
   "outputs": [
    {
     "data": {
      "text/plain": [
       "[0, 2, 4, 6, 8, 10]"
      ]
     },
     "execution_count": 55,
     "metadata": {},
     "output_type": "execute_result"
    }
   ],
   "source": [
    "list(filter(check_even,nums))"
   ]
  },
  {
   "cell_type": "code",
   "execution_count": 124,
   "metadata": {},
   "outputs": [
    {
     "data": {
      "text/plain": [
       "[2, 4]"
      ]
     },
     "execution_count": 124,
     "metadata": {},
     "output_type": "execute_result"
    }
   ],
   "source": [
    "def my_filter(fun, lst):\n",
    "    new_lst =[]\n",
    "    for i in lst:\n",
    "        if fun(i):\n",
    "            new_lst.append(i)\n",
    "    return new_lst\n",
    "\n",
    "my_list = [1, 2 ,3 ,4, 5]\n",
    "my_filter(check_even, my_list)"
   ]
  },
  {
   "cell_type": "markdown",
   "metadata": {},
   "source": [
    "**Map**"
   ]
  },
  {
   "cell_type": "code",
   "execution_count": 125,
   "metadata": {},
   "outputs": [
    {
     "data": {
      "text/plain": [
       "4"
      ]
     },
     "execution_count": 125,
     "metadata": {},
     "output_type": "execute_result"
    }
   ],
   "source": [
    "def sq(x):\n",
    "    return x ** 2\n",
    "sq(2)"
   ]
  },
  {
   "cell_type": "code",
   "execution_count": 126,
   "metadata": {},
   "outputs": [
    {
     "data": {
      "text/plain": [
       "[1, 4, 9, 16, 25]"
      ]
     },
     "execution_count": 126,
     "metadata": {},
     "output_type": "execute_result"
    }
   ],
   "source": [
    "def my_map(fun, lst):\n",
    "    new_lst =[]\n",
    "    for i in lst:\n",
    "        new_lst.append(fun(i))\n",
    "    return new_lst\n",
    "\n",
    "my_list = [1, 2 ,3 ,4, 5]\n",
    "my_map(sq, my_list)"
   ]
  },
  {
   "cell_type": "markdown",
   "metadata": {},
   "source": [
    "# Scopes"
   ]
  },
  {
   "cell_type": "markdown",
   "metadata": {},
   "source": [
    "**Global**"
   ]
  },
  {
   "cell_type": "code",
   "execution_count": 174,
   "metadata": {},
   "outputs": [
    {
     "name": "stdout",
     "output_type": "stream",
     "text": [
      "inside: 3\n",
      "outside: global\n"
     ]
    }
   ],
   "source": [
    "x = \"global\"\n",
    "\n",
    "def fun(x):\n",
    "    print(\"inside:\", x)\n",
    "    \n",
    "fun(3)\n",
    "print(\"outside:\", x)"
   ]
  },
  {
   "cell_type": "markdown",
   "metadata": {},
   "source": [
    "**Local**"
   ]
  },
  {
   "cell_type": "code",
   "execution_count": 175,
   "metadata": {},
   "outputs": [
    {
     "name": "stdout",
     "output_type": "stream",
     "text": [
      "inside: local\n",
      "outside: global\n"
     ]
    }
   ],
   "source": [
    "x = \"global\"\n",
    "\n",
    "def fun():\n",
    "    x = \"local\"\n",
    "    print(\"inside:\", x)\n",
    "    \n",
    "fun()\n",
    "print(\"outside:\", x)"
   ]
  },
  {
   "cell_type": "code",
   "execution_count": 176,
   "metadata": {},
   "outputs": [
    {
     "name": "stdout",
     "output_type": "stream",
     "text": [
      "inside: changed\n",
      "outside: changed\n"
     ]
    }
   ],
   "source": [
    "x = \"global\"\n",
    "\n",
    "def fun():\n",
    "    global x\n",
    "    x = \"changed\"\n",
    "    print(\"inside:\", x)\n",
    "    \n",
    "fun()\n",
    "print(\"outside:\", x)"
   ]
  },
  {
   "cell_type": "markdown",
   "metadata": {},
   "source": [
    "**non-local**"
   ]
  },
  {
   "cell_type": "code",
   "execution_count": 183,
   "metadata": {},
   "outputs": [
    {
     "name": "stdout",
     "output_type": "stream",
     "text": [
      "inside inner func: inner_local\n",
      "inside outer func: outer_local\n",
      "outside any func: global\n"
     ]
    }
   ],
   "source": [
    "x = \"global\"\n",
    "\n",
    "def outer_fun():\n",
    "    x = \"outer_local\"\n",
    "    \n",
    "    def inner_fun():\n",
    "        x = \"inner_local\"\n",
    "        print(\"inside inner func:\", x)\n",
    "    \n",
    "    inner_fun()\n",
    "    print(\"inside outer func:\", x)\n",
    "    \n",
    "outer_fun()\n",
    "print(\"outside any func:\", x)"
   ]
  },
  {
   "cell_type": "code",
   "execution_count": 184,
   "metadata": {},
   "outputs": [
    {
     "name": "stdout",
     "output_type": "stream",
     "text": [
      "inside inner func: changed\n",
      "inside outer func: outer_local\n",
      "outside any func: changed\n"
     ]
    }
   ],
   "source": [
    "x = \"global\"\n",
    "\n",
    "def outer_fun():\n",
    "    x = \"outer_local\"\n",
    "    \n",
    "    def inner_fun():\n",
    "        global x\n",
    "        x = \"changed\"\n",
    "        print(\"inside inner func:\", x)\n",
    "    \n",
    "    inner_fun()\n",
    "    print(\"inside outer func:\", x)\n",
    "    \n",
    "outer_fun()\n",
    "print(\"outside any func:\", x)"
   ]
  },
  {
   "cell_type": "code",
   "execution_count": 185,
   "metadata": {},
   "outputs": [
    {
     "name": "stdout",
     "output_type": "stream",
     "text": [
      "inside inner func: changed\n",
      "inside outer func: changed\n",
      "outside any func: global\n"
     ]
    }
   ],
   "source": [
    "x = \"global\"\n",
    "\n",
    "def outer_fun():\n",
    "    x = \"outer_local\"\n",
    "    \n",
    "    def inner_fun():\n",
    "        nonlocal x\n",
    "        x = \"changed\"\n",
    "        print(\"inside inner func:\", x)\n",
    "    \n",
    "    inner_fun()\n",
    "    print(\"inside outer func:\", x)\n",
    "    \n",
    "outer_fun()\n",
    "print(\"outside any func:\", x)"
   ]
  },
  {
   "cell_type": "markdown",
   "metadata": {},
   "source": [
    "## lambda expression\n",
    "\n"
   ]
  },
  {
   "cell_type": "code",
   "execution_count": 151,
   "metadata": {},
   "outputs": [],
   "source": [
    "def square(num):\n",
    "    result = num**2\n",
    "    return result"
   ]
  },
  {
   "cell_type": "code",
   "execution_count": 152,
   "metadata": {},
   "outputs": [
    {
     "data": {
      "text/plain": [
       "4"
      ]
     },
     "execution_count": 152,
     "metadata": {},
     "output_type": "execute_result"
    }
   ],
   "source": [
    "square(2)"
   ]
  },
  {
   "cell_type": "markdown",
   "metadata": {},
   "source": [
    "We could simplify it:"
   ]
  },
  {
   "cell_type": "code",
   "execution_count": 153,
   "metadata": {},
   "outputs": [],
   "source": [
    "def square(num):\n",
    "    return num**2"
   ]
  },
  {
   "cell_type": "code",
   "execution_count": 154,
   "metadata": {},
   "outputs": [
    {
     "data": {
      "text/plain": [
       "4"
      ]
     },
     "execution_count": 154,
     "metadata": {},
     "output_type": "execute_result"
    }
   ],
   "source": [
    "square(2)"
   ]
  },
  {
   "cell_type": "markdown",
   "metadata": {},
   "source": [
    "We could actually even write this all on one line."
   ]
  },
  {
   "cell_type": "code",
   "execution_count": 155,
   "metadata": {},
   "outputs": [],
   "source": [
    "def square(num): return num**2"
   ]
  },
  {
   "cell_type": "code",
   "execution_count": 156,
   "metadata": {},
   "outputs": [
    {
     "data": {
      "text/plain": [
       "7"
      ]
     },
     "execution_count": 156,
     "metadata": {},
     "output_type": "execute_result"
    }
   ],
   "source": [
    "addition = lambda x, y: x + y\n",
    "addition(3, 4)"
   ]
  },
  {
   "cell_type": "code",
   "execution_count": 157,
   "metadata": {},
   "outputs": [
    {
     "data": {
      "text/plain": [
       "<function __main__.<lambda>(num)>"
      ]
     },
     "execution_count": 157,
     "metadata": {},
     "output_type": "execute_result"
    }
   ],
   "source": [
    "lambda num: num ** 2"
   ]
  },
  {
   "cell_type": "code",
   "execution_count": 158,
   "metadata": {},
   "outputs": [],
   "source": [
    "# You wouldn't usually assign a name to a lambda expression, this is just for demonstration!\n",
    "ahmed = lambda num: num **2"
   ]
  },
  {
   "cell_type": "code",
   "execution_count": 159,
   "metadata": {},
   "outputs": [
    {
     "data": {
      "text/plain": [
       "4"
      ]
     },
     "execution_count": 159,
     "metadata": {},
     "output_type": "execute_result"
    }
   ],
   "source": [
    "ahmed(2)"
   ]
  },
  {
   "cell_type": "code",
   "execution_count": 160,
   "metadata": {},
   "outputs": [
    {
     "data": {
      "text/plain": [
       "<function __main__.<lambda>(names)>"
      ]
     },
     "execution_count": 160,
     "metadata": {},
     "output_type": "execute_result"
    }
   ],
   "source": [
    "lambda names:'even' if len(names)%2==0 else names[0]"
   ]
  },
  {
   "cell_type": "code",
   "execution_count": 161,
   "metadata": {},
   "outputs": [
    {
     "data": {
      "text/plain": [
       "'a'"
      ]
     },
     "execution_count": 161,
     "metadata": {},
     "output_type": "execute_result"
    }
   ],
   "source": [
    "a=lambda names:'even' if len(names)%2==0 else names[0]\n",
    "\n",
    "a('ahmed')"
   ]
  },
  {
   "cell_type": "code",
   "execution_count": 162,
   "metadata": {},
   "outputs": [
    {
     "data": {
      "text/plain": [
       "[1, 4, 9, 16, 25]"
      ]
     },
     "execution_count": 162,
     "metadata": {},
     "output_type": "execute_result"
    }
   ],
   "source": [
    "list(map(lambda num: num ** 2, my_nums))"
   ]
  },
  {
   "cell_type": "code",
   "execution_count": 163,
   "metadata": {},
   "outputs": [
    {
     "data": {
      "text/plain": [
       "[0, 2, 4, 6, 8, 10]"
      ]
     },
     "execution_count": 163,
     "metadata": {},
     "output_type": "execute_result"
    }
   ],
   "source": [
    "list(filter(lambda n: n % 2 == 0,nums))"
   ]
  },
  {
   "cell_type": "code",
   "execution_count": 164,
   "metadata": {},
   "outputs": [],
   "source": [
    "x=lambda my_names: 'even' if len(my_names)%2 ==0 else my_names[0]"
   ]
  },
  {
   "cell_type": "code",
   "execution_count": 165,
   "metadata": {},
   "outputs": [
    {
     "data": {
      "text/plain": [
       "['a', 'even', 's', 'even']"
      ]
     },
     "execution_count": 165,
     "metadata": {},
     "output_type": "execute_result"
    }
   ],
   "source": [
    "names=['ahmed','mohammed','sameh','john']\n",
    "list(map(x,names))"
   ]
  },
  {
   "cell_type": "code",
   "execution_count": 166,
   "metadata": {},
   "outputs": [],
   "source": [
    "def add(*args):\n",
    "    return sum(args)"
   ]
  },
  {
   "cell_type": "code",
   "execution_count": 167,
   "metadata": {},
   "outputs": [
    {
     "data": {
      "text/plain": [
       "11"
      ]
     },
     "execution_count": 167,
     "metadata": {},
     "output_type": "execute_result"
    }
   ],
   "source": [
    "add (5,6)"
   ]
  },
  {
   "cell_type": "code",
   "execution_count": null,
   "metadata": {},
   "outputs": [],
   "source": []
  },
  {
   "cell_type": "code",
   "execution_count": null,
   "metadata": {},
   "outputs": [],
   "source": [
    "def add_num(x:int,y:int):\n",
    "    \n",
    "    return x+y"
   ]
  },
  {
   "cell_type": "code",
   "execution_count": 30,
   "metadata": {},
   "outputs": [
    {
     "data": {
      "text/plain": [
       "'georgeahmed'"
      ]
     },
     "execution_count": 30,
     "metadata": {},
     "output_type": "execute_result"
    }
   ],
   "source": [
    "add_num(\"george\",\"ahmed\")"
   ]
  },
  {
   "cell_type": "markdown",
   "metadata": {},
   "source": [
    "# Exceptions\n",
    "\n",
    "exception are errors that occurs during runtime"
   ]
  },
  {
   "cell_type": "code",
   "execution_count": 20,
   "metadata": {},
   "outputs": [],
   "source": [
    "x=0"
   ]
  },
  {
   "cell_type": "code",
   "execution_count": 24,
   "metadata": {},
   "outputs": [
    {
     "ename": "ZeroDivisionError",
     "evalue": "division by zero",
     "output_type": "error",
     "traceback": [
      "\u001b[31m---------------------------------------------------------------------------\u001b[39m",
      "\u001b[31mZeroDivisionError\u001b[39m                         Traceback (most recent call last)",
      "\u001b[36mCell\u001b[39m\u001b[36m \u001b[39m\u001b[32mIn[24]\u001b[39m\u001b[32m, line 1\u001b[39m\n\u001b[32m----> \u001b[39m\u001b[32m1\u001b[39m \u001b[32;43m5\u001b[39;49m\u001b[43m/\u001b[49m\u001b[32;43m0\u001b[39;49m\n",
      "\u001b[31mZeroDivisionError\u001b[39m: division by zero"
     ]
    }
   ],
   "source": [
    "5/0"
   ]
  },
  {
   "cell_type": "code",
   "execution_count": 25,
   "metadata": {},
   "outputs": [
    {
     "name": "stdout",
     "output_type": "stream",
     "text": [
      "Not accept to divid by zero\n"
     ]
    }
   ],
   "source": [
    "try:\n",
    "  5/0\n",
    "except:\n",
    "  print(\"Not accept to divid by zero\")"
   ]
  },
  {
   "cell_type": "code",
   "execution_count": 188,
   "metadata": {},
   "outputs": [
    {
     "name": "stdout",
     "output_type": "stream",
     "text": [
      "Division By zero\n"
     ]
    }
   ],
   "source": [
    "try:\n",
    "  x = 10\n",
    "  y = int(input())\n",
    "  x / y\n",
    "except:\n",
    "  print('Division By zero')"
   ]
  },
  {
   "cell_type": "markdown",
   "metadata": {},
   "source": [
    "**Display exception message**"
   ]
  },
  {
   "cell_type": "code",
   "execution_count": 189,
   "metadata": {},
   "outputs": [
    {
     "name": "stdout",
     "output_type": "stream",
     "text": [
      "division by zero\n"
     ]
    }
   ],
   "source": [
    "try:\n",
    "  5/0\n",
    "except Exception as e:\n",
    "  print(e)"
   ]
  },
  {
   "cell_type": "code",
   "execution_count": 168,
   "metadata": {},
   "outputs": [
    {
     "name": "stdout",
     "output_type": "stream",
     "text": [
      "5\n"
     ]
    }
   ],
   "source": [
    "a=5\n",
    "try:\n",
    "    print(t)\n",
    "except:\n",
    "    print(\"An exception occurred\")"
   ]
  },
  {
   "cell_type": "code",
   "execution_count": 169,
   "metadata": {},
   "outputs": [
    {
     "name": "stdout",
     "output_type": "stream",
     "text": [
      "5\n"
     ]
    }
   ],
   "source": [
    "y=5\n",
    "try:\n",
    "    print(a)\n",
    "except:\n",
    "    print(\"An exception occurred\")"
   ]
  },
  {
   "cell_type": "code",
   "execution_count": 170,
   "metadata": {},
   "outputs": [
    {
     "name": "stdout",
     "output_type": "stream",
     "text": [
      "5\n"
     ]
    }
   ],
   "source": [
    "try:\n",
    "    print(y)\n",
    "except NameError:\n",
    "    print(\"Variable y is not defined\")\n",
    "except:\n",
    "    print(\"Something else went wrong\")"
   ]
  },
  {
   "cell_type": "code",
   "execution_count": 171,
   "metadata": {},
   "outputs": [
    {
     "name": "stdout",
     "output_type": "stream",
     "text": [
      "29\n",
      "Nothing went wrong\n"
     ]
    }
   ],
   "source": [
    "try:\n",
    "    print(i)\n",
    "except:\n",
    "    print(\"Something went wrong\")\n",
    "else:\n",
    "    print(\"Nothing went wrong\")"
   ]
  },
  {
   "cell_type": "code",
   "execution_count": 172,
   "metadata": {},
   "outputs": [
    {
     "name": "stdout",
     "output_type": "stream",
     "text": [
      "Something went wrong\n",
      "The 'try except1' is finished\n"
     ]
    }
   ],
   "source": [
    "try:\n",
    "    print(Z)\n",
    "except:\n",
    "    print(\"Something went wrong\")\n",
    "finally:\n",
    "    print(\"The 'try except1' is finished\")"
   ]
  },
  {
   "cell_type": "markdown",
   "metadata": {},
   "source": [
    "**try, except, finally**"
   ]
  },
  {
   "cell_type": "code",
   "execution_count": 28,
   "metadata": {},
   "outputs": [
    {
     "name": "stdout",
     "output_type": "stream",
     "text": [
      "shokrannnnn\n",
      "Done\n"
     ]
    }
   ],
   "source": [
    "try:\n",
    "  x = 10\n",
    "  y = int(input())\n",
    "  x / y\n",
    "except:\n",
    "  print('Division By zero')\n",
    "else:\n",
    "  print(\"shokrannnnn\")\n",
    "finally:\n",
    "  print(\"Done\")"
   ]
  },
  {
   "cell_type": "markdown",
   "metadata": {},
   "source": [
    "# Modules\n"
   ]
  },
  {
   "cell_type": "markdown",
   "metadata": {},
   "source": [
    "**How to import**"
   ]
  },
  {
   "cell_type": "markdown",
   "metadata": {},
   "source": [
    "**Get random number between 0 and 1**"
   ]
  },
  {
   "cell_type": "code",
   "execution_count": null,
   "metadata": {},
   "outputs": [
    {
     "name": "stdout",
     "output_type": "stream",
     "text": [
      "0.944358326757195\n"
     ]
    }
   ],
   "source": [
    "# import math \n",
    "import random\n",
    "\n",
    "n=random.random()\n",
    "def calc_degree(n):\n",
    "    print(n**n)\n",
    "    \n",
    "    \n",
    "    \n",
    "calc_degree(n)"
   ]
  },
  {
   "cell_type": "code",
   "execution_count": null,
   "metadata": {},
   "outputs": [],
   "source": []
  },
  {
   "cell_type": "code",
   "execution_count": null,
   "metadata": {},
   "outputs": [],
   "source": []
  },
  {
   "cell_type": "markdown",
   "metadata": {},
   "source": [
    "**Get random int value, where (0=< number <=10)**"
   ]
  },
  {
   "cell_type": "code",
   "execution_count": 38,
   "metadata": {},
   "outputs": [
    {
     "data": {
      "text/plain": [
       "5"
      ]
     },
     "execution_count": 38,
     "metadata": {},
     "output_type": "execute_result"
    }
   ],
   "source": [
    "random.randint(1, 10)"
   ]
  },
  {
   "cell_type": "markdown",
   "metadata": {},
   "source": [
    "**Choose randomly from a list**"
   ]
  },
  {
   "cell_type": "code",
   "execution_count": 40,
   "metadata": {},
   "outputs": [
    {
     "data": {
      "text/plain": [
       "'Ahmed'"
      ]
     },
     "execution_count": 40,
     "metadata": {},
     "output_type": "execute_result"
    }
   ],
   "source": [
    "# choose one element randomly\n",
    "lst = [\"Ahmed\", \"Ali\", \"Omar\", 1, 3, 8]\n",
    "random.choice(lst)"
   ]
  },
  {
   "cell_type": "code",
   "execution_count": 204,
   "metadata": {},
   "outputs": [
    {
     "data": {
      "text/plain": [
       "[3, 1, 8, 8]"
      ]
     },
     "execution_count": 204,
     "metadata": {},
     "output_type": "execute_result"
    }
   ],
   "source": [
    "# choose many elements randomly\n",
    "lst = [\"Ahmed\", \"Ali\", \"Omar\", 1, 3, 8]\n",
    "random.choices(lst, k=4)"
   ]
  },
  {
   "cell_type": "markdown",
   "metadata": {},
   "source": [
    "# Read File"
   ]
  },
  {
   "cell_type": "code",
   "execution_count": null,
   "metadata": {},
   "outputs": [
    {
     "name": "stdout",
     "output_type": "stream",
     "text": [
      "hello mena\n"
     ]
    }
   ],
   "source": [
    "import os   \n",
    "import sys \n",
    "\n",
    "f = open(\"D:/InnovionRay_team/Innovisionray_team/Amit/AI_Diploma/Certified_AI_and_DS_Track/Python for AI and Data Science/Session 4 - Dictionaries & Nested Data Structures/quiz/test.txt\", \"r\")\n",
    "print(f.read())\n",
    "f.close()\n"
   ]
  },
  {
   "cell_type": "code",
   "execution_count": 35,
   "metadata": {},
   "outputs": [
    {
     "name": "stdout",
     "output_type": "stream",
     "text": [
      "hello mena\n",
      "\n",
      "hello islam\n",
      "\n"
     ]
    }
   ],
   "source": [
    "f = open(\"D:/InnovionRay_team/Innovisionray_team/Amit/AI_Diploma/Certified_AI_and_DS_Track/Python for AI and Data Science/Session 4 - Dictionaries & Nested Data Structures/quiz/test.txt\", \"r\")\n",
    "all_lines = f.readlines()\n",
    "\n",
    "for line in all_lines:\n",
    "     print(line)"
   ]
  },
  {
   "cell_type": "code",
   "execution_count": 82,
   "metadata": {},
   "outputs": [
    {
     "name": "stdout",
     "output_type": "stream",
     "text": [
      "Hello\n"
     ]
    }
   ],
   "source": [
    "f = open(\"test1.txt\", \"w\")\n",
    "f.write(\"Hello\")\n",
    "f.close()\n",
    "\n",
    "f = open(\"test1.txt\", \"r\")\n",
    "print(f.read())\n",
    "f.close()\n"
   ]
  },
  {
   "cell_type": "code",
   "execution_count": 83,
   "metadata": {},
   "outputs": [],
   "source": [
    "f = open(\"test.txt\", \"a\")\n",
    "for i in range(30):\n",
    "    f.write(\"\\nI love python\" + str(i))\n",
    "\n",
    "f.close()"
   ]
  },
  {
   "cell_type": "code",
   "execution_count": 84,
   "metadata": {},
   "outputs": [
    {
     "name": "stdout",
     "output_type": "stream",
     "text": [
      "hello\n",
      "amit\n",
      "learning\n",
      "ml\n",
      "I love python0\n",
      "I love python1\n",
      "I love python2\n",
      "I love python3\n",
      "I love python4\n",
      "I love python5\n",
      "I love python6\n",
      "I love python7\n",
      "I love python8\n",
      "I love python9\n",
      "I love python10\n",
      "I love python11\n",
      "I love python12\n",
      "I love python13\n",
      "I love python14\n",
      "I love python15\n",
      "I love python16\n",
      "I love python17\n",
      "I love python18\n",
      "I love python19\n",
      "I love python20\n",
      "I love python21\n",
      "I love python22\n",
      "I love python23\n",
      "I love python24\n",
      "I love python25\n",
      "I love python26\n",
      "I love python27\n",
      "I love python28\n",
      "I love python29\n"
     ]
    }
   ],
   "source": [
    "f = open(\"test.txt\", \"r\")\n",
    "print(f.read())\n",
    "f.close()"
   ]
  },
  {
   "cell_type": "code",
   "execution_count": 85,
   "metadata": {},
   "outputs": [],
   "source": [
    "import os"
   ]
  },
  {
   "cell_type": "code",
   "execution_count": 93,
   "metadata": {},
   "outputs": [],
   "source": [
    "file = os.listdir(r'C:/Users/AMIT\\Desktop\\InnovisionRay\\amit-learning\\Amit-Diploma\\Materials\\Data_Science\\B-Python_for_AI_and_DS\\B-Data_Structure')"
   ]
  },
  {
   "cell_type": "code",
   "execution_count": 94,
   "metadata": {},
   "outputs": [
    {
     "name": "stdout",
     "output_type": "stream",
     "text": [
      "['loop_func_try_file_handle.ipynb', 'test.txt', 'test1.txt']\n"
     ]
    }
   ],
   "source": [
    "print(file)"
   ]
  },
  {
   "cell_type": "code",
   "execution_count": 96,
   "metadata": {},
   "outputs": [],
   "source": [
    "os.remove('C:/Users/AMIT/Desktop/InnovisionRay/amit-learning/Amit-Diploma/Materials/Data_Science/B-Python_for_AI_and_DS/B-Data_Structure/rem.txt')"
   ]
  },
  {
   "cell_type": "code",
   "execution_count": 100,
   "metadata": {},
   "outputs": [
    {
     "data": {
      "text/plain": [
       "'test.txt'"
      ]
     },
     "execution_count": 100,
     "metadata": {},
     "output_type": "execute_result"
    }
   ],
   "source": [
    "import random\n",
    "random.choice(file)"
   ]
  },
  {
   "cell_type": "markdown",
   "metadata": {},
   "source": [
    "**join pathes**"
   ]
  },
  {
   "cell_type": "code",
   "execution_count": 210,
   "metadata": {},
   "outputs": [
    {
     "data": {
      "text/plain": [
       "'./tmp_directory\\\\text_1.txt'"
      ]
     },
     "execution_count": 210,
     "metadata": {},
     "output_type": "execute_result"
    }
   ],
   "source": [
    "base_dir = \"./tmp_directory\"\n",
    "file_name = \"text_1.txt\"\n",
    "file_path = os.path.join(base_dir, file_name)\n",
    "file_path"
   ]
  },
  {
   "cell_type": "markdown",
   "metadata": {},
   "source": [
    "**remove file**"
   ]
  },
  {
   "cell_type": "code",
   "execution_count": 208,
   "metadata": {},
   "outputs": [],
   "source": [
    "base_dir = \"./tmp_directory\"\n",
    "file_name = \"text_1.txt\"\n",
    "file_path = os.path.join(base_dir, file_name)\n",
    "\n",
    "os.remove(file_path)"
   ]
  },
  {
   "cell_type": "markdown",
   "metadata": {},
   "source": [
    "**add new directory**"
   ]
  },
  {
   "cell_type": "code",
   "execution_count": 211,
   "metadata": {},
   "outputs": [],
   "source": [
    "import os\n",
    "\n",
    "directory = \"./tmp_directory_test\"\n",
    "\n",
    "\n",
    "if not os.path.exists(directory):\n",
    "    os.makedirs(directory)\n",
    "else:\n",
    "    print(\"Directory already exists:\", directory)"
   ]
  },
  {
   "cell_type": "markdown",
   "metadata": {},
   "source": [
    "**Assignment 1**\n",
    "\n",
    "write a code that creates a directory, then create another 20 directories inside this directory"
   ]
  },
  {
   "cell_type": "code",
   "execution_count": 212,
   "metadata": {},
   "outputs": [],
   "source": [
    "import os \n",
    "\n",
    "path = \"tmp_directory\"\n",
    "\n",
    "if not os.path.exists(path):\n",
    "    os.makedirs(path)\n",
    "for i in range(20):\n",
    "    inner_path = os.path.join(path, \"dir_\" + str(i))\n",
    "    if not os.path.exists(inner_path):\n",
    "        os.makedirs(inner_path)"
   ]
  },
  {
   "cell_type": "markdown",
   "metadata": {},
   "source": [
    "# File Handling\n",
    "### file modes\n",
    "1. “r” --> **read mode**: reads the content of the file.\n",
    "2. “a” --> **append mode**: creates the file if not exists, without overwriting its content\n",
    "3. “w” --> **write mode**: creates the file if not exists, and overwrite its content.\n",
    "4. “x” --> **excute mode**: creates the file only, and if it exists it will raise an error."
   ]
  },
  {
   "cell_type": "markdown",
   "metadata": {},
   "source": [
    "**Open a file using 'with' clause**"
   ]
  },
  {
   "cell_type": "code",
   "execution_count": 213,
   "metadata": {},
   "outputs": [
    {
     "name": "stdout",
     "output_type": "stream",
     "text": [
      " New line added\n",
      "\n"
     ]
    }
   ],
   "source": [
    "with open(\"./tmp_directory/text_1.txt\", \"a+\") as file: # \"w+\"  \"r+\"\n",
    "    # content = file.read()\n",
    "\n",
    "    file.write(\" New line added\\n\")  # Write new content\n",
    "\n",
    "    file.seek(0)  # Move the file pointer to the beginning\n",
    "\n",
    "    updated_content = file.read()  # Read the updated content\n",
    "\n",
    "    print(updated_content)\n"
   ]
  },
  {
   "cell_type": "markdown",
   "metadata": {},
   "source": [
    "**Open a file and Overwrite its content**\n",
    "\n",
    "if the file is not existed the following mode will create it"
   ]
  },
  {
   "cell_type": "code",
   "execution_count": 216,
   "metadata": {},
   "outputs": [
    {
     "name": "stdout",
     "output_type": "stream",
     "text": [
      "Hello__________\n"
     ]
    }
   ],
   "source": [
    "f = open(\"./tmp_directory/text_1.txt\", \"w\")\n",
    "f.write(\"Hello__________\")\n",
    "f.close()\n",
    "\n",
    "f = open(\"./tmp_directory/text_1.txt\", \"r\")\n",
    "print(f.read())\n",
    "f.close()"
   ]
  },
  {
   "cell_type": "markdown",
   "metadata": {},
   "source": [
    "**Open a file and write into it without overwritting the content**\n",
    "\n",
    "if the file is not existed the following mode will create it"
   ]
  },
  {
   "cell_type": "code",
   "execution_count": 217,
   "metadata": {},
   "outputs": [
    {
     "name": "stdout",
     "output_type": "stream",
     "text": [
      "Hello\n",
      "\n"
     ]
    }
   ],
   "source": [
    "f = open(\"test2.txt\", \"a\")\n",
    "f.write(\"Hello\\n\")\n",
    "f.close()\n",
    "\n",
    "f = open(\"test2.txt\", \"r\")\n",
    "print(f.read())\n",
    "f.close()"
   ]
  },
  {
   "cell_type": "markdown",
   "metadata": {},
   "source": [
    "**Assignment 2**"
   ]
  },
  {
   "cell_type": "code",
   "execution_count": 218,
   "metadata": {},
   "outputs": [],
   "source": [
    "\"\"\"\n",
    "thanos project:\n",
    "    make a function to do the follwoing:\n",
    "        1-open the whole folder\n",
    "        2-create number of files inside it\n",
    "        3-check the len of files in that folder \n",
    "        4-delete random half of this folder\n",
    "        5- check the result\n",
    "\"\"\"\n",
    "pass"
   ]
  },
  {
   "cell_type": "code",
   "execution_count": null,
   "metadata": {},
   "outputs": [],
   "source": [
    "base_path = \"tmp_directory\"\n",
    "for i in range(1, 21):\n",
    "    file_name = \"text_\" + str(i) + \".txt\"\n",
    "    file_path = os.path.join(base_path, file_name)\n",
    "    \n",
    "    f = open(file_path, \"a\")\n",
    "    f.close()"
   ]
  },
  {
   "cell_type": "code",
   "execution_count": null,
   "metadata": {},
   "outputs": [],
   "source": [
    "import random\n",
    "\n",
    "path = \"tmp_directory\"\n",
    "file_names = os.listdir(path)\n",
    "num_files = len(path)\n",
    "num_files\n",
    "for i in range(int(num_files)):\n",
    "    rand_indx = random.randint(1, num_files)\n",
    "    inner_path = os.path.join(path, file_names[rand_indx])\n",
    "    os.remove(inner_path)"
   ]
  },
  {
   "cell_type": "code",
   "execution_count": null,
   "metadata": {},
   "outputs": [],
   "source": []
  },
  {
   "cell_type": "code",
   "execution_count": null,
   "metadata": {},
   "outputs": [],
   "source": []
  },
  {
   "cell_type": "code",
   "execution_count": 59,
   "metadata": {},
   "outputs": [],
   "source": [
    "s1 = STUDENT()"
   ]
  },
  {
   "cell_type": "code",
   "execution_count": 60,
   "metadata": {},
   "outputs": [
    {
     "name": "stdout",
     "output_type": "stream",
     "text": [
      "my name is and my age is \n"
     ]
    }
   ],
   "source": [
    "s1.info()"
   ]
  },
  {
   "cell_type": "code",
   "execution_count": 57,
   "metadata": {},
   "outputs": [
    {
     "data": {
      "text/plain": [
       "0.0"
      ]
     },
     "execution_count": 57,
     "metadata": {},
     "output_type": "execute_result"
    }
   ],
   "source": [
    "import math as m  \n",
    "\n",
    "\n",
    "m.sin(0)"
   ]
  },
  {
   "cell_type": "markdown",
   "metadata": {},
   "source": [
    "Function: A reusable block of code that performs a specific task. Defined using the def keyword.\n",
    "\n",
    "Arguments: Values passed into a function when calling it. Allows customizing behavior.\n",
    "\n",
    "Variable Arguments: Allows passing an arbitrary number of arguments to a function.\n",
    "\n",
    "Keyword Arguments: Arguments passed by name rather than position. Can have default values.\n",
    "\n",
    "Function Example"
   ]
  },
  {
   "cell_type": "code",
   "execution_count": 11,
   "metadata": {},
   "outputs": [
    {
     "name": "stdout",
     "output_type": "stream",
     "text": [
      "10\n"
     ]
    }
   ],
   "source": [
    "def double(x):\n",
    "    \"\"\"Doubles a number\"\"\"\n",
    "    return x * 2\n",
    "\n",
    "print(double(5)) # Prints 10"
   ]
  },
  {
   "cell_type": "code",
   "execution_count": 12,
   "metadata": {},
   "outputs": [
    {
     "name": "stdout",
     "output_type": "stream",
     "text": [
      "John Doe\n"
     ]
    }
   ],
   "source": [
    "# Function with Arguments\n",
    "def full_name(first, last):\n",
    "    return first + \" \" + last\n",
    "\n",
    "print(full_name(\"John\", \"Doe\")) # Prints John Doe\n"
   ]
  },
  {
   "cell_type": "code",
   "execution_count": 13,
   "metadata": {},
   "outputs": [
    {
     "name": "stdout",
     "output_type": "stream",
     "text": [
      "6\n"
     ]
    }
   ],
   "source": [
    "# Variable Arguments\n",
    "\n",
    "def sum_all(*numbers):\n",
    "    sum = 0\n",
    "    for n in numbers:\n",
    "        sum += n\n",
    "    return sum\n",
    "\n",
    "print(sum_all(1, 2, 3)) # Prints 6"
   ]
  },
  {
   "cell_type": "code",
   "execution_count": null,
   "metadata": {},
   "outputs": [
    {
     "name": "stdout",
     "output_type": "stream",
     "text": [
      "Hello, John\n",
      "Hi, Mary\n"
     ]
    }
   ],
   "source": [
    "# Keyword Arguments\n",
    "\n",
    "def greet(name, greeting=\"Hello\"):\n",
    "    print(greeting + \", \" + name)\n"
   ]
  },
  {
   "cell_type": "code",
   "execution_count": null,
   "metadata": {},
   "outputs": [
    {
     "data": {
      "text/plain": [
       "5"
      ]
     },
     "execution_count": 7,
     "metadata": {},
     "output_type": "execute_result"
    }
   ],
   "source": [
    "def summ(x,y):\n",
    "    return(x+y)\n",
    "z=summ(2,3)"
   ]
  },
  {
   "cell_type": "code",
   "execution_count": null,
   "metadata": {},
   "outputs": [
    {
     "name": "stdout",
     "output_type": "stream",
     "text": [
      "name George\n",
      "age 22\n"
     ]
    }
   ],
   "source": [
    "dic_1 = {'name':'George', 'age':22}\n",
    "\n",
    "for k,v in dic_1.items():\n",
    "    print(k,v)"
   ]
  },
  {
   "cell_type": "code",
   "execution_count": 14,
   "metadata": {},
   "outputs": [
    {
     "data": {
      "text/plain": [
       "'ali'"
      ]
     },
     "execution_count": 14,
     "metadata": {},
     "output_type": "execute_result"
    }
   ],
   "source": [
    "import random\n",
    "attacks=['ahmed','ali','hassan']\n",
    "random.choice(attacks)"
   ]
  },
  {
   "cell_type": "code",
   "execution_count": null,
   "metadata": {},
   "outputs": [],
   "source": [
    "def info(**arg):\n",
    "    \"\"\"  \n",
    "    parm_1: accept many input as dict \n",
    "    parm_1: dict\n",
    "    return : dictionary of many onput\n",
    "    type_return :dict \n",
    "    \n",
    "    \"\"\"\n",
    "    for k, v in arg.items():\n",
    "        return (k,v)\n",
    "    return arg"
   ]
  },
  {
   "cell_type": "code",
   "execution_count": 9,
   "metadata": {},
   "outputs": [
    {
     "data": {
      "text/plain": [
       "22"
      ]
     },
     "execution_count": 9,
     "metadata": {},
     "output_type": "execute_result"
    }
   ],
   "source": [
    "v"
   ]
  },
  {
   "cell_type": "markdown",
   "metadata": {},
   "source": [
    "v"
   ]
  },
  {
   "cell_type": "code",
   "execution_count": 5,
   "metadata": {},
   "outputs": [
    {
     "name": "stdout",
     "output_type": "stream",
     "text": [
      "name George\n",
      "age 22\n"
     ]
    }
   ],
   "source": [
    "result =info(** dic_1)"
   ]
  },
  {
   "cell_type": "code",
   "execution_count": 23,
   "metadata": {},
   "outputs": [
    {
     "name": "stdout",
     "output_type": "stream",
     "text": [
      "5\n",
      "6\n",
      "7\n",
      "8\n",
      "9\n",
      "10\n"
     ]
    }
   ],
   "source": [
    "# Generator: A type of iterable like lists or tuples \n",
    "# but does not store the full sequence in memory at once.\n",
    "# Uses yield to generate one item at a time\n",
    "#counter generator\n",
    "def counter(start=0):\n",
    "    n = start\n",
    "    while True:\n",
    "       yield n\n",
    "       n += 1\n",
    "\n",
    "for i in counter(5):\n",
    "    if i > 10:\n",
    "        break \n",
    "    print(i)"
   ]
  },
  {
   "cell_type": "code",
   "execution_count": 24,
   "metadata": {},
   "outputs": [
    {
     "name": "stdout",
     "output_type": "stream",
     "text": [
      "0\n",
      "1\n",
      "1\n",
      "2\n",
      "3\n",
      "5\n",
      "8\n"
     ]
    }
   ],
   "source": [
    "#Infinite Fibonacci sequence generator\n",
    "def fib():\n",
    "    a, b = 0, 1\n",
    "    while True:\n",
    "       yield a \n",
    "       a, b = b, a + b\n",
    "       \n",
    "for n in fib():\n",
    "   if n > 10:\n",
    "     break  \n",
    "   print(n)"
   ]
  },
  {
   "cell_type": "code",
   "execution_count": 25,
   "metadata": {},
   "outputs": [
    {
     "name": "stdout",
     "output_type": "stream",
     "text": [
      "[0, 1, 4, 9, 16, 25, 36, 49, 64, 81]\n"
     ]
    }
   ],
   "source": [
    "# Generator expression: More compact syntax like\n",
    "# list comprehensions for inline lazy generation, uses () instead of []\n",
    "#Generator expression to get squares\n",
    "nums = (x**2 for x in range(10))\n",
    "print(list(nums))\n",
    "\n"
   ]
  },
  {
   "cell_type": "code",
   "execution_count": null,
   "metadata": {},
   "outputs": [
    {
     "name": "stdout",
     "output_type": "stream",
     "text": [
      "Yielding attack\n",
      "triangle\n",
      "Yielding attack\n",
      "armbar\n",
      "Yielding attack\n",
      "armbar\n",
      "Yielding attack\n",
      "triangle\n",
      "Yielding attack\n",
      "armbar\n"
     ]
    }
   ],
   "source": [
    "# Infinite sequence: Generators can be infinitely recursive/iterative to model data streams\n",
    "# Infinite random attack sequence\n",
    "import random\n",
    "attacks = [\"kimura\", \"armbar\", \"triangle\"] \n",
    "\n",
    "def lazy_random_attacks():\n",
    "    \"\"\"Lazily yield random attacks forever\"\"\"\n",
    "    \n",
    "    while True:\n",
    "        attack = random.choice(attacks)\n",
    "        print(\"Yielding attack\") \n",
    "        yield attack\n",
    "        \n",
    "generator = lazy_random_attacks()\n",
    "\n",
    "for _ in range(5):\n",
    "    print(next(generator))\n"
   ]
  },
  {
   "cell_type": "code",
   "execution_count": null,
   "metadata": {},
   "outputs": [
    {
     "data": {
      "text/html": [
       "\n",
       "        <iframe\n",
       "            width=\"100%\"\n",
       "            height=\"650\"\n",
       "            src=\"http://127.0.0.1:8050/\"\n",
       "            frameborder=\"0\"\n",
       "            allowfullscreen\n",
       "            \n",
       "        ></iframe>\n",
       "        "
      ],
      "text/plain": [
       "<IPython.lib.display.IFrame at 0x25734eca660>"
      ]
     },
     "metadata": {},
     "output_type": "display_data"
    },
    {
     "name": "stderr",
     "output_type": "stream",
     "text": [
      "[2025-05-10 13:11:32,308] ERROR in app: Exception on /_dash-update-component [POST]\n",
      "Traceback (most recent call last):\n",
      "  File \"c:\\Users\\AMIT\\miniconda3\\Lib\\site-packages\\flask\\app.py\", line 880, in full_dispatch_request\n",
      "    rv = self.dispatch_request()\n",
      "         ^^^^^^^^^^^^^^^^^^^^^^^\n",
      "  File \"c:\\Users\\AMIT\\miniconda3\\Lib\\site-packages\\flask\\app.py\", line 865, in dispatch_request\n",
      "    return self.ensure_sync(self.view_functions[rule.endpoint])(**view_args)  # type: ignore[no-any-return]\n",
      "           ^^^^^^^^^^^^^^^^^^^^^^^^^^^^^^^^^^^^^^^^^^^^^^^^^^^^^^^^^^^^^^^^^\n",
      "  File \"c:\\Users\\AMIT\\miniconda3\\Lib\\site-packages\\dash\\dash.py\", line 1414, in dispatch\n",
      "    ctx.run(\n",
      "  File \"c:\\Users\\AMIT\\miniconda3\\Lib\\site-packages\\dash\\_callback.py\", line 536, in add_context\n",
      "    raise err\n",
      "  File \"c:\\Users\\AMIT\\miniconda3\\Lib\\site-packages\\dash\\_callback.py\", line 525, in add_context\n",
      "    output_value = _invoke_callback(func, *func_args, **func_kwargs)  # type: ignore[reportArgumentType]\n",
      "                   ^^^^^^^^^^^^^^^^^^^^^^^^^^^^^^^^^^^^^^^^^^^^^^^^^\n",
      "  File \"c:\\Users\\AMIT\\miniconda3\\Lib\\site-packages\\dash\\_callback.py\", line 47, in _invoke_callback\n",
      "    return func(*args, **kwargs)  # %% callback invoked %%\n",
      "           ^^^^^^^^^^^^^^^^^^^^^\n",
      "  File \"C:\\Users\\AMIT\\AppData\\Local\\Temp\\ipykernel_6400\\1114194973.py\", line 105, in update_population_chart\n",
      "    return create_population_chart(continent, year)\n",
      "           ^^^^^^^^^^^^^^^^^^^^^^^^^^^^^^^^^^^^^^^^\n",
      "  File \"C:\\Users\\AMIT\\AppData\\Local\\Temp\\ipykernel_6400\\1114194973.py\", line 27, in create_population_chart\n",
      "    fig = px.bar(filtered_df, x=\"Country\", y=\"Population\", color=\"Country\",\n",
      "          ^^^^^^^^^^^^^^^^^^^^^^^^^^^^^^^^^^^^^^^^^^^^^^^^^^^^^^^^^^^^^^^^^\n",
      "  File \"c:\\Users\\AMIT\\miniconda3\\Lib\\site-packages\\plotly\\express\\_chart_types.py\", line 381, in bar\n",
      "    return make_figure(\n",
      "           ^^^^^^^^^^^^\n",
      "  File \"c:\\Users\\AMIT\\miniconda3\\Lib\\site-packages\\plotly\\express\\_core.py\", line 2477, in make_figure\n",
      "    apply_default_cascade(args)\n",
      "  File \"c:\\Users\\AMIT\\miniconda3\\Lib\\site-packages\\plotly\\express\\_core.py\", line 1072, in apply_default_cascade\n",
      "    bar.marker.pattern.shape for bar in args[\"template\"].data.bar\n",
      "    ^^^^^^^^^^^^^^^^^^^^^^^^\n",
      "  File \"c:\\Users\\AMIT\\miniconda3\\Lib\\site-packages\\plotly\\graph_objs\\bar\\marker\\_pattern.py\", line 252, in shape\n",
      "    return self[\"shape\"]\n",
      "           ~~~~^^^^^^^^^\n",
      "  File \"c:\\Users\\AMIT\\miniconda3\\Lib\\site-packages\\plotly\\basedatatypes.py\", line 4734, in __getitem__\n",
      "    elif self._props is not None and prop in self._props:\n",
      "         ^^^^^^^^^^^\n",
      "  File \"c:\\Users\\AMIT\\miniconda3\\Lib\\site-packages\\plotly\\basedatatypes.py\", line 4429, in _props\n",
      "    return self.parent._get_child_props(self)\n",
      "           ^^^^^^^^^^^^^^^^^^^^^^^^^^^^^^^^^^\n",
      "  File \"c:\\Users\\AMIT\\miniconda3\\Lib\\site-packages\\plotly\\basedatatypes.py\", line 4443, in _get_child_props\n",
      "    if self._props is None:\n",
      "       ^^^^^^^^^^^\n",
      "  File \"c:\\Users\\AMIT\\miniconda3\\Lib\\site-packages\\plotly\\basedatatypes.py\", line 4429, in _props\n",
      "    return self.parent._get_child_props(self)\n",
      "           ^^^^^^^^^^^^^^^^^^^^^^^^^^^^^^^^^^\n",
      "  File \"c:\\Users\\AMIT\\miniconda3\\Lib\\site-packages\\plotly\\basedatatypes.py\", line 4443, in _get_child_props\n",
      "    if self._props is None:\n",
      "       ^^^^^^^^^^^\n",
      "  File \"c:\\Users\\AMIT\\miniconda3\\Lib\\site-packages\\plotly\\basedatatypes.py\", line 4429, in _props\n",
      "    return self.parent._get_child_props(self)\n",
      "           ^^^^^^^^^^^^^^^^^^^^^^^^^^^^^^^^^^\n",
      "  File \"c:\\Users\\AMIT\\miniconda3\\Lib\\site-packages\\plotly\\basedatatypes.py\", line 4463, in _get_child_props\n",
      "    child_ind = BaseFigure._index_is(children, child)\n",
      "                ^^^^^^^^^^^^^^^^^^^^^^^^^^^^^^^^^^^^^\n",
      "  File \"c:\\Users\\AMIT\\miniconda3\\Lib\\site-packages\\plotly\\basedatatypes.py\", line 3957, in _index_is\n",
      "    raise ValueError(\"Invalid value\")\n",
      "ValueError: Invalid value\n",
      "\n",
      "During handling of the above exception, another exception occurred:\n",
      "\n",
      "Traceback (most recent call last):\n",
      "  File \"c:\\Users\\AMIT\\miniconda3\\Lib\\site-packages\\flask\\app.py\", line 1473, in wsgi_app\n",
      "    response = self.full_dispatch_request()\n",
      "               ^^^^^^^^^^^^^^^^^^^^^^^^^^^^\n",
      "  File \"c:\\Users\\AMIT\\miniconda3\\Lib\\site-packages\\flask\\app.py\", line 882, in full_dispatch_request\n",
      "    rv = self.handle_user_exception(e)\n",
      "         ^^^^^^^^^^^^^^^^^^^^^^^^^^^^^\n",
      "  File \"c:\\Users\\AMIT\\miniconda3\\Lib\\site-packages\\flask\\app.py\", line 772, in handle_user_exception\n",
      "    return self.ensure_sync(handler)(e)  # type: ignore[no-any-return]\n",
      "           ^^^^^^^^^^^^^^^^^^^^^^^^^^^^\n",
      "  File \"c:\\Users\\AMIT\\miniconda3\\Lib\\site-packages\\dash\\_jupyter.py\", line 462, in _wrap_errors\n",
      "    ipytb = FormattedTB(\n",
      "            ^^^^^^^^^^^^\n",
      "TypeError: FormattedTB.__init__() got an unexpected keyword argument 'color_scheme'\n",
      "Error on request:\n",
      "Traceback (most recent call last):\n",
      "  File \"c:\\Users\\AMIT\\miniconda3\\Lib\\site-packages\\flask\\app.py\", line 880, in full_dispatch_request\n",
      "    rv = self.dispatch_request()\n",
      "         ^^^^^^^^^^^^^^^^^^^^^^^\n",
      "  File \"c:\\Users\\AMIT\\miniconda3\\Lib\\site-packages\\flask\\app.py\", line 865, in dispatch_request\n",
      "    return self.ensure_sync(self.view_functions[rule.endpoint])(**view_args)  # type: ignore[no-any-return]\n",
      "           ^^^^^^^^^^^^^^^^^^^^^^^^^^^^^^^^^^^^^^^^^^^^^^^^^^^^^^^^^^^^^^^^^^^^^^^^^^^^^^^^^^^^^^^^^^^^^^^^\n",
      "  File \"c:\\Users\\AMIT\\miniconda3\\Lib\\site-packages\\dash\\dash.py\", line 1414, in dispatch\n",
      "    ctx.run(\n",
      "  File \"c:\\Users\\AMIT\\miniconda3\\Lib\\site-packages\\dash\\_callback.py\", line 536, in add_context\n",
      "    raise err\n",
      "  File \"c:\\Users\\AMIT\\miniconda3\\Lib\\site-packages\\dash\\_callback.py\", line 525, in add_context\n",
      "    output_value = _invoke_callback(func, *func_args, **func_kwargs)  # type: ignore[reportArgumentType]\n",
      "                   ^^^^^^^^^^^^^^^^^^^^^^^^^^^^^^^^^^^^^^^^^^^^^^^^^^^^^^^^^^^^^^^^^^^^^^^^^^^^^^^^^^^^^\n",
      "  File \"c:\\Users\\AMIT\\miniconda3\\Lib\\site-packages\\dash\\_callback.py\", line 47, in _invoke_callback\n",
      "    return func(*args, **kwargs)  # %% callback invoked %%\n",
      "           ^^^^^^^^^^^^^^^^^^^^^^^^^^^^^^^^^^^^^^^^^^^^^^^\n",
      "  File \"C:\\Users\\AMIT\\AppData\\Local\\Temp\\ipykernel_6400\\1114194973.py\", line 105, in update_population_chart\n",
      "    return create_population_chart(continent, year)\n",
      "           ^^^^^^^^^^^^^^^^^^^^^^^^^^^^^^^^^^^^^^^^\n",
      "  File \"C:\\Users\\AMIT\\AppData\\Local\\Temp\\ipykernel_6400\\1114194973.py\", line 27, in create_population_chart\n",
      "    fig = px.bar(filtered_df, x=\"Country\", y=\"Population\", color=\"Country\",\n",
      "          ^^^^^^^^^^^^^^^^^^^^^^^^^^^^^^^^^^^^^^^^^^^^^^^^^^^^^^^^^^^^^^^^^\n",
      "  File \"c:\\Users\\AMIT\\miniconda3\\Lib\\site-packages\\plotly\\express\\_chart_types.py\", line 381, in bar\n",
      "    return make_figure(\n",
      "           ^^^^^^^^^^^^\n",
      "  File \"c:\\Users\\AMIT\\miniconda3\\Lib\\site-packages\\plotly\\express\\_core.py\", line 2477, in make_figure\n",
      "    apply_default_cascade(args)\n",
      "  File \"c:\\Users\\AMIT\\miniconda3\\Lib\\site-packages\\plotly\\express\\_core.py\", line 1072, in apply_default_cascade\n",
      "    bar.marker.pattern.shape for bar in args[\"template\"].data.bar\n",
      "  File \"c:\\Users\\AMIT\\miniconda3\\Lib\\site-packages\\plotly\\graph_objs\\bar\\marker\\_pattern.py\", line 252, in shape\n",
      "    return self[\"shape\"]\n",
      "           ^^^^^^^^^^^^^\n",
      "  File \"c:\\Users\\AMIT\\miniconda3\\Lib\\site-packages\\plotly\\basedatatypes.py\", line 4734, in __getitem__\n",
      "    elif self._props is not None and prop in self._props:\n",
      "         ^^^^^^^^^^^^^^^^^^^^^^^^^^^^^^^^^^^^^^^^^^^^^^^^\n",
      "  File \"c:\\Users\\AMIT\\miniconda3\\Lib\\site-packages\\plotly\\basedatatypes.py\", line 4429, in _props\n",
      "    return self.parent._get_child_props(self)\n",
      "           ^^^^^^^^^^^^^^^^^^^^^^^^^^^^^^^^^^\n",
      "  File \"c:\\Users\\AMIT\\miniconda3\\Lib\\site-packages\\plotly\\basedatatypes.py\", line 4443, in _get_child_props\n",
      "    if self._props is None:\n",
      "       ^^^^^^^^^^^^^^^^^^^^\n",
      "  File \"c:\\Users\\AMIT\\miniconda3\\Lib\\site-packages\\plotly\\basedatatypes.py\", line 4429, in _props\n",
      "    return self.parent._get_child_props(self)\n",
      "           ^^^^^^^^^^^^^^^^^^^^^^^^^^^^^^^^^^\n",
      "  File \"c:\\Users\\AMIT\\miniconda3\\Lib\\site-packages\\plotly\\basedatatypes.py\", line 4443, in _get_child_props\n",
      "    if self._props is None:\n",
      "       ^^^^^^^^^^^^^^^^^^^^\n",
      "  File \"c:\\Users\\AMIT\\miniconda3\\Lib\\site-packages\\plotly\\basedatatypes.py\", line 4429, in _props\n",
      "    return self.parent._get_child_props(self)\n",
      "           ^^^^^^^^^^^^^^^^^^^^^^^^^^^^^^^^^^\n",
      "  File \"c:\\Users\\AMIT\\miniconda3\\Lib\\site-packages\\plotly\\basedatatypes.py\", line 4463, in _get_child_props\n",
      "    child_ind = BaseFigure._index_is(children, child)\n",
      "                ^^^^^^^^^^^^^^^^^^^^^^^^^^^^^^^^^^^^^\n",
      "  File \"c:\\Users\\AMIT\\miniconda3\\Lib\\site-packages\\plotly\\basedatatypes.py\", line 3957, in _index_is\n",
      "    raise ValueError(\"Invalid value\")\n",
      "ValueError: Invalid value\n",
      "\n",
      "During handling of the above exception, another exception occurred:\n",
      "\n",
      "Traceback (most recent call last):\n",
      "  File \"c:\\Users\\AMIT\\miniconda3\\Lib\\site-packages\\flask\\app.py\", line 1473, in wsgi_app\n",
      "    response = self.full_dispatch_request()\n",
      "               ^^^^^^^^^^^^^^^^^^^^^^^^^^^^\n",
      "  File \"c:\\Users\\AMIT\\miniconda3\\Lib\\site-packages\\flask\\app.py\", line 882, in full_dispatch_request\n",
      "    rv = self.handle_user_exception(e)\n",
      "         ^^^^^^^^^^^^^^^^^^^^^^^^^^^^^\n",
      "  File \"c:\\Users\\AMIT\\miniconda3\\Lib\\site-packages\\flask\\app.py\", line 772, in handle_user_exception\n",
      "    return self.ensure_sync(handler)(e)  # type: ignore[no-any-return]\n",
      "           ^^^^^^^^^^^^^^^^^^^^^^^^^^^^^^^^^^^^^^^^^^^^^^^^^^^^^^^^^^^\n",
      "  File \"c:\\Users\\AMIT\\miniconda3\\Lib\\site-packages\\dash\\_jupyter.py\", line 462, in _wrap_errors\n",
      "    ipytb = FormattedTB(\n",
      "            ^^^^^^^^^^^^\n",
      "TypeError: FormattedTB.__init__() got an unexpected keyword argument 'color_scheme'\n",
      "\n",
      "During handling of the above exception, another exception occurred:\n",
      "\n",
      "Traceback (most recent call last):\n",
      "  File \"c:\\Users\\AMIT\\miniconda3\\Lib\\site-packages\\werkzeug\\serving.py\", line 370, in run_wsgi\n",
      "    execute(self.server.app)\n",
      "  File \"c:\\Users\\AMIT\\miniconda3\\Lib\\site-packages\\werkzeug\\serving.py\", line 331, in execute\n",
      "    application_iter = app(environ, start_response)\n",
      "                       ^^^^^^^^^^^^^^^^^^^^^^^^^^^^\n",
      "  File \"c:\\Users\\AMIT\\miniconda3\\Lib\\site-packages\\flask\\app.py\", line 1498, in __call__\n",
      "    return self.wsgi_app(environ, start_response)\n",
      "           ^^^^^^^^^^^^^^^^^^^^^^^^^^^^^^^^^^^^^^\n",
      "  File \"c:\\Users\\AMIT\\miniconda3\\Lib\\site-packages\\flask\\app.py\", line 1476, in wsgi_app\n",
      "    response = self.handle_exception(e)\n",
      "               ^^^^^^^^^^^^^^^^^^^^^^^^\n",
      "  File \"c:\\Users\\AMIT\\miniconda3\\Lib\\site-packages\\flask\\app.py\", line 823, in handle_exception\n",
      "    server_error = self.ensure_sync(handler)(server_error)\n",
      "                   ^^^^^^^^^^^^^^^^^^^^^^^^^^^^^^^^^^^^^^^\n",
      "  File \"c:\\Users\\AMIT\\miniconda3\\Lib\\site-packages\\dash\\_jupyter.py\", line 453, in _wrap_errors\n",
      "    skip = _get_skip(error) if dev_tools_prune_errors else 0\n",
      "           ^^^^^^^^^^^^^^^^^^^^^^^^^^^^^^^^^^^^^^^^^^^^^^^^^\n",
      "  File \"c:\\Users\\AMIT\\miniconda3\\Lib\\site-packages\\dash\\_jupyter.py\", line 47, in _get_skip\n",
      "    while tb.tb_next is not None:\n",
      "          ^^^^^^^^^^^^^^^^^^^^^^^\n",
      "AttributeError: 'NoneType' object has no attribute 'tb_next'\n"
     ]
    }
   ],
   "source": [
    "from plotly.data import gapminder\n",
    "from dash import dcc, html, Dash, callback, Input, Output\n",
    "import plotly.express as px\n",
    "import plotly.graph_objects as go\n",
    "\n",
    "css = [\"https://cdn.jsdelivr.net/npm/bootstrap@5.3.1/dist/css/bootstrap.min.css\", ]\n",
    "app = Dash(name=\"Gapminder Dashboard\", external_stylesheets=css)\n",
    "\n",
    "################### DATASET ####################################\n",
    "gapminder_df = gapminder(datetimes=True, centroids=True, pretty_names=True)\n",
    "gapminder_df[\"Year\"] = gapminder_df.Year.dt.year\n",
    "\n",
    "#################### CHARTS #####################################\n",
    "def create_table():\n",
    "    fig = go.Figure(data=[go.Table(\n",
    "        header=dict(values=gapminder_df.columns, align='left'),\n",
    "        cells=dict(values=gapminder_df.values.T, align='left'))\n",
    "    ]\n",
    "    )\n",
    "    fig.update_layout(paper_bgcolor=\"#e5ecf6\", margin={\"t\":0, \"l\":0, \"r\":0, \"b\":0}, height=700)\n",
    "    return fig\n",
    "\n",
    "def create_population_chart(continent=\"Asia\", year=1952, ):\n",
    "    filtered_df = gapminder_df[(gapminder_df.Continent==continent) & (gapminder_df.Year==year)]\n",
    "    filtered_df = filtered_df.sort_values(by=\"Population\", ascending=False).head(15)\n",
    "\n",
    "    fig = px.bar(filtered_df, x=\"Country\", y=\"Population\", color=\"Country\",\n",
    "                   title=\"Country {} for {} Continent in {}\".format(\"Population\", continent, year),\n",
    "                   text_auto=True)\n",
    "    fig.update_layout(paper_bgcolor=\"#e5ecf6\", height=600)\n",
    "    return fig\n",
    "\n",
    "def create_gdp_chart(continent=\"Asia\", year=1952):\n",
    "    filtered_df = gapminder_df[(gapminder_df.Continent==continent) & (gapminder_df.Year==year)]\n",
    "    filtered_df = filtered_df.sort_values(by=\"GDP per Capita\", ascending=False).head(15)\n",
    "\n",
    "    fig = px.bar(filtered_df, x=\"Country\", y=\"GDP per Capita\", color=\"Country\",\n",
    "                   title=\"Country {} for {} Continent in {}\".format(\"GDP per Capita\", continent, year),\n",
    "                   text_auto=True)\n",
    "    fig.update_layout(paper_bgcolor=\"#e5ecf6\", height=600)\n",
    "    return fig\n",
    "\n",
    "def create_life_exp_chart(continent=\"Asia\", year=1952):\n",
    "    filtered_df = gapminder_df[(gapminder_df.Continent==continent) & (gapminder_df.Year==year)]\n",
    "    filtered_df = filtered_df.sort_values(by=\"Life Expectancy\", ascending=False).head(15)\n",
    "\n",
    "    fig = px.bar(filtered_df, x=\"Country\", y=\"Life Expectancy\", color=\"Country\",\n",
    "                   title=\"Country {} for {} Continent in {}\".format(\"Life Expectancy\", continent, year),\n",
    "                   text_auto=True)\n",
    "    fig.update_layout(paper_bgcolor=\"#e5ecf6\", height=600)\n",
    "    return fig\n",
    "\n",
    "def create_choropleth_map(variable, year):\n",
    "    filtered_df = gapminder_df[gapminder_df.Year==year]\n",
    "\n",
    "    fig = px.choropleth(filtered_df, color=variable, \n",
    "                        locations=\"ISO Alpha Country Code\", locationmode=\"ISO-3\",\n",
    "                        color_continuous_scale=\"RdYlBu\", hover_data=[\"Country\", variable],\n",
    "                        title=\"{} Choropleth Map [{}]\".format(variable, year)\n",
    "                     )\n",
    "\n",
    "    fig.update_layout(dragmode=False, paper_bgcolor=\"#e5ecf6\", height=600, margin={\"l\":0, \"r\":0})\n",
    "    return fig\n",
    "\n",
    "##################### WIDGETS ####################################\n",
    "continents = gapminder_df.Continent.unique()\n",
    "years = gapminder_df.Year.unique()\n",
    "\n",
    "cont_population = dcc.Dropdown(id=\"cont_pop\", options=continents, value=\"Asia\",clearable=False)\n",
    "year_population = dcc.Dropdown(id=\"year_pop\", options=years, value=1952,clearable=False)\n",
    "\n",
    "cont_gdp = dcc.Dropdown(id=\"cont_gdp\", options=continents, value=\"Asia\",clearable=False)\n",
    "year_gdp = dcc.Dropdown(id=\"year_gdp\", options=years, value=1952,clearable=False)\n",
    "\n",
    "cont_life_exp = dcc.Dropdown(id=\"cont_life_exp\", options=continents, value=\"Asia\",clearable=False)\n",
    "year_life_exp = dcc.Dropdown(id=\"year_life_exp\", options=years, value=1952,clearable=False)\n",
    "\n",
    "year_map = dcc.Dropdown(id=\"year_map\", options=years, value=1952,clearable=False)\n",
    "var_map = dcc.Dropdown(id=\"var_map\", options=[\"Population\", \"GDP per Capita\", \"Life Expectancy\"],\n",
    "                        value=\"Life Expectancy\",clearable=False)\n",
    "\n",
    "##################### APP LAYOUT ####################################\n",
    "app.layout = html.Div([\n",
    "    html.Div([\n",
    "        html.H1(\"Gapminder Dataset Analysis\", className=\"text-center fw-bold m-2\"),\n",
    "        html.Br(),\n",
    "        dcc.Tabs([\n",
    "            dcc.Tab([html.Br(),\n",
    "                     dcc.Graph(id=\"dataset\", figure=create_table())], label=\"Dataset\"),\n",
    "            dcc.Tab([html.Br(), \"Continent\", cont_population, \"Year\", year_population, html.Br(),\n",
    "                     dcc.Graph(id=\"population\")], label=\"Population\"),\n",
    "            dcc.Tab([html.Br(), \"Continent\", cont_gdp, \"Year\", year_gdp, html.Br(),\n",
    "                     dcc.Graph(id=\"gdp\")], label=\"GDP Per Capita\"),\n",
    "            dcc.Tab([html.Br(), \"Continent\", cont_life_exp, \"Year\", year_life_exp, html.Br(),\n",
    "                     dcc.Graph(id=\"life_expectancy\")], label=\"Life Expectancy\"),\n",
    "            dcc.Tab([html.Br(), \"Variable\", var_map, \"Year\", year_map, html.Br(),\n",
    "                     dcc.Graph(id=\"choropleth_map\")], label=\"Choropleth Map\"),\n",
    "        ])\n",
    "    ], className=\"col-8 mx-auto\"),\n",
    "], style={\"background-color\": \"#e5ecf6\", \"height\": \"100vh\"})\n",
    "\n",
    "##################### CALLBACKS ####################################\n",
    "@callback(Output(\"population\", \"figure\"), [Input(\"cont_pop\", \"value\"), Input(\"year_pop\", \"value\"),])\n",
    "def update_population_chart(continent, year):\n",
    "    return create_population_chart(continent, year)\n",
    "\n",
    "@callback(Output(\"gdp\", \"figure\"), [Input(\"cont_gdp\", \"value\"), Input(\"year_gdp\", \"value\"),])\n",
    "def update_gdp_chart(continent, year):\n",
    "    return create_gdp_chart(continent, year)\n",
    "\n",
    "@callback(Output(\"life_expectancy\", \"figure\"), [Input(\"cont_life_exp\", \"value\"), Input(\"year_life_exp\", \"value\"),])\n",
    "def update_life_exp_chart(continent, year):\n",
    "    return create_life_exp_chart(continent, year)\n",
    "\n",
    "@callback(Output(\"choropleth_map\", \"figure\"), [Input(\"var_map\", \"value\"), Input(\"year_map\", \"value\"),])\n",
    "def update_map(var_map, year):\n",
    "    return create_choropleth_map(var_map, year)\n",
    "\n",
    "if __name__ == \"__main__\":\n",
    "    app.run(debug=True)"
   ]
  },
  {
   "cell_type": "code",
   "execution_count": null,
   "metadata": {},
   "outputs": [],
   "source": []
  }
 ],
 "metadata": {
  "kernelspec": {
   "display_name": "base",
   "language": "python",
   "name": "python3"
  },
  "language_info": {
   "codemirror_mode": {
    "name": "ipython",
    "version": 3
   },
   "file_extension": ".py",
   "mimetype": "text/x-python",
   "name": "python",
   "nbconvert_exporter": "python",
   "pygments_lexer": "ipython3",
   "version": "3.12.9"
  }
 },
 "nbformat": 4,
 "nbformat_minor": 2
}
